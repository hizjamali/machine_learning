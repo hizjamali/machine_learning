{
 "cells": [
  {
   "cell_type": "markdown",
   "metadata": {},
   "source": [
    "# Real Data Science - Garbage in garbage out"
   ]
  },
  {
   "cell_type": "markdown",
   "metadata": {},
   "source": [
    "While it is nice to be able to make accurate predictions using fancy machine learning techniques, this is only half the battle for practising data scientists and machine learning engineers. Most of the effort is spent obtaining, cleaning and preparing your datasets. Typically when learning new machine learning techniques we gloss over this part of the data processing pipeline. All to often we are given a perfect dataset with a known solution, very rarely do we apply our techniques to raw, messy data. To remedy that problem I am going to explicitly cover these overlooked aspects of machine learning in this notebook. From downloading a dataset to cleaning and reshaping it. I will also cover some options for building the entire data processing pipeline, all from within Python."
   ]
  },
  {
   "cell_type": "code",
   "execution_count": 1,
   "metadata": {
    "collapsed": true
   },
   "outputs": [],
   "source": [
    "import seaborn as sns\n",
    "from matplotlib import pyplot as plt"
   ]
  },
  {
   "cell_type": "markdown",
   "metadata": {},
   "source": [
    "## Downloading a Dataset"
   ]
  },
  {
   "cell_type": "markdown",
   "metadata": {},
   "source": [
    "Before we can do anything we first need to get our hands on some data. Any data! The best place to find free data is on the internet. There are many places to look. From CSIRO's [Data Access Portal](https://data.csiro.au) and [Kaggle Datasets](https://www.kaggle.com/datasets) to the [Australian Government data](http://data.gov.au/) and the [Bureau of Meteorology](http://www.bom.gov.au/climate/change/acorn-sat/#tabs=Data-and-networks). There is also some standard dataset repositories [UCI machine learning repository](http://archive.ics.uci.edu/ml/index.php), [machine learning dataset repository](http://mldata.org)\n",
    "\n",
    "We are going to use some temperature data from Melbourne (you are more than welcome, and **encouraged**, to try and play with another dataset that interests you!)."
   ]
  },
  {
   "cell_type": "code",
   "execution_count": 5,
   "metadata": {
    "collapsed": true
   },
   "outputs": [],
   "source": [
    "MIN_DATA_URL = \"http://www.bom.gov.au/climate/change/acorn/sat/data/acorn.sat.minT.087031.daily.txt\"\n",
    "MAX_DATA_URL = \"http://www.bom.gov.au/climate/change/acorn/sat/data/acorn.sat.maxT.087031.daily.txt\""
   ]
  },
  {
   "cell_type": "markdown",
   "metadata": {},
   "source": [
    "As with most tools in Python, there are a few options for downloading data. There is the in [urllib](https://docs.python.org/2/library/urllib.html) which can be cross-compatibly accessed using [six.moves](https://pythonhosted.org/six/#module-six.moves). There is also the much nicer [requests library](http://docs.python-requests.org/en/master/) which we will use in this notebook. \n",
    "\n",
    "If you need to scrape a webpage the [Beautiful Soup](https://www.crummy.com/software/BeautifulSoup/) library is fairly nice, or again if you are feeling adventurous there are some tools in the [Python standard library](https://docs.python.org/2/library/xml.etree.elementtree.html)."
   ]
  },
  {
   "cell_type": "code",
   "execution_count": 11,
   "metadata": {
    "collapsed": true
   },
   "outputs": [
    {
     "name": "stdout",
     "output_type": "stream",
     "text": [
      "<class 'str'>\n"
     ]
    }
   ],
   "source": [
    "import requests\n",
    "\n",
    "min_string_data = requests.get(MIN_DATA_URL).text\n",
    "max_string_data = requests.get(MAX_DATA_URL).text\n",
    "\n",
    "print(type(min_string_data))\n",
    "#print(min_string_data)"
   ]
  },
  {
   "cell_type": "markdown",
   "metadata": {},
   "source": [
    "Well... that was easy. \n",
    "\n",
    "We have our datasets. The date is given in the first column while the temperature (in degrees celsius) is given in the second. You will also notice that there is a header with some extra info about the dataset. We have: \n",
    "\n",
    "    data name, station ID, date of first reading, date of last reading, missing value identifier, station location.\n",
    "\n",
    "However, you will notice that our data is in a string (or `unicode`) object, which isn't all that useful when performing numerical analysis. One of the more common (or versatile) objects for data analysis is a [Pandas](http://pandas.pydata.org/) [`dataframe`](http://pandas.pydata.org/pandas-docs/stable/generated/pandas.DataFrame.html). Pandas typically expects to read from a file directly, not from a string object. We can mimic file-like behaviour using the [StringIO](https://docs.python.org/3/library/io.html) class from the Python standard library."
   ]
  },
  {
   "cell_type": "code",
   "execution_count": 8,
   "metadata": {
    "collapsed": true
   },
   "outputs": [
    {
     "name": "stdout",
     "output_type": "stream",
     "text": [
      "<class 'pandas._libs.tslibs.timestamps.Timestamp'>\n",
      "<class 'numpy.float64'>\n"
     ]
    }
   ],
   "source": [
    "from io import StringIO\n",
    "import pandas as pd\n",
    "\n",
    "# Make data appear file-like\n",
    "min_data = StringIO(min_string_data)\n",
    "max_data = StringIO(max_string_data)\n",
    "\n",
    "# Import data into a Pandas dataframe\n",
    "min_df = pd.read_csv(min_data,\n",
    "                     delim_whitespace=True,       # Let Pandas know that white space is our delimiter\n",
    "                     names=[\"date\", \"min_temp\"],  # Strings for our column headings\n",
    "                     skiprows=1,                  # Skip the header row\n",
    "                     parse_dates=[0])             # Parse the first column as a date type\n",
    "max_df = pd.read_csv(max_data,\n",
    "                     delim_whitespace=True,\n",
    "                     names=[\"date\", \"max_temp\"],\n",
    "                     skiprows=1,\n",
    "                     parse_dates=[0])\n",
    "\n",
    "print(type(min_df['date'][0]))\n",
    "print(type(min_df['min_temp'][0]))\n",
    "#print(min_df)"
   ]
  },
  {
   "cell_type": "markdown",
   "metadata": {},
   "source": [
    "Our data is now in a neat and easily addressable format, ready to be used for solving the worlds problems... sort of."
   ]
  },
  {
   "cell_type": "code",
   "execution_count": 10,
   "metadata": {
    "collapsed": true
   },
   "outputs": [
    {
     "data": {
      "image/png": "[encoded data removed]",
      "text/plain": [
       "<Figure size 432x288 with 1 Axes>"
      ]
     },
     "metadata": {},
     "output_type": "display_data"
    },
    {
     "data": {
      "text/plain": [
       "<seaborn.axisgrid.PairGrid at 0x2045dd92a20>"
      ]
     },
     "execution_count": 10,
     "metadata": {},
     "output_type": "execute_result"
    },
    {
     "data": {
      "image/png": "[encoded data removed]",
      "text/plain": [
       "<Figure size 180x180 with 2 Axes>"
      ]
     },
     "metadata": {},
     "output_type": "display_data"
    }
   ],
   "source": [
    "min_df.plot(x=\"date\",\n",
    "            y=\"min_temp\",\n",
    "            ylim=[0, 50],\n",
    "            legend=False)\n",
    "plt.show()\n",
    "sns.pairplot(min_df)"
   ]
  },
  {
   "cell_type": "code",
   "execution_count": 28,
   "metadata": {},
   "outputs": [
    {
     "name": "stdout",
     "output_type": "stream",
     "text": [
      "<class 'pandas.core.frame.DataFrame'>\n",
      "<class 'pandas._libs.tslibs.timestamps.Timestamp'>\n",
      "<class 'numpy.float64'>\n",
      "<bound method NDFrame.head of                  Datetime  Canopytemp\n",
      "0     2015-12-22 08:35:00       25.41\n",
      "1     2015-12-22 08:40:00       25.43\n",
      "2     2015-12-22 08:55:00       27.15\n",
      "3     2015-12-22 09:00:00       30.46\n",
      "4     2015-12-22 09:05:00       30.31\n",
      "5     2015-12-22 09:10:00       30.13\n",
      "6     2015-12-22 09:15:00       30.17\n",
      "7     2015-12-22 09:20:00       29.97\n",
      "8     2015-12-22 09:25:00       29.96\n",
      "9     2015-12-22 09:30:00       29.82\n",
      "10    2015-12-22 09:35:00       30.00\n",
      "11    2015-12-22 09:40:00       29.92\n",
      "12    2015-12-22 09:45:00       39.33\n",
      "13    2015-12-22 09:50:00       32.60\n",
      "14    2015-12-22 09:55:00       38.98\n",
      "15    2015-12-22 10:00:00       29.63\n",
      "16    2015-12-22 10:05:00       29.30\n",
      "17    2015-12-22 10:10:00       29.80\n",
      "18    2015-12-22 10:15:00       29.76\n",
      "19    2015-12-22 10:20:00       29.86\n",
      "20    2015-12-22 10:25:00       30.21\n",
      "21    2015-12-22 10:30:00       31.22\n",
      "22    2015-12-22 10:35:00       29.51\n",
      "23    2015-12-22 10:40:00       28.83\n",
      "24    2015-12-22 10:45:00       27.99\n",
      "25    2015-12-22 10:50:00       30.47\n",
      "26    2015-12-22 10:55:00       30.22\n",
      "27    2015-12-22 11:00:00       30.44\n",
      "28    2015-12-22 11:05:00       31.16\n",
      "29    2015-12-22 11:10:00       31.05\n",
      "...                   ...         ...\n",
      "25989                 NaT         NaN\n",
      "25990                 NaT         NaN\n",
      "25991                 NaT         NaN\n",
      "25992                 NaT         NaN\n",
      "25993                 NaT         NaN\n",
      "25994                 NaT         NaN\n",
      "25995                 NaT         NaN\n",
      "25996                 NaT         NaN\n",
      "25997                 NaT         NaN\n",
      "25998                 NaT         NaN\n",
      "25999                 NaT         NaN\n",
      "26000                 NaT         NaN\n",
      "26001                 NaT         NaN\n",
      "26002                 NaT         NaN\n",
      "26003                 NaT         NaN\n",
      "26004                 NaT         NaN\n",
      "26005                 NaT         NaN\n",
      "26006                 NaT         NaN\n",
      "26007                 NaT         NaN\n",
      "26008                 NaT         NaN\n",
      "26009                 NaT         NaN\n",
      "26010                 NaT         NaN\n",
      "26011                 NaT         NaN\n",
      "26012                 NaT         NaN\n",
      "26013                 NaT         NaN\n",
      "26014                 NaT         NaN\n",
      "26015                 NaT         NaN\n",
      "26016                 NaT         NaN\n",
      "26017                 NaT         NaN\n",
      "26018                 NaT         NaN\n",
      "\n",
      "[26019 rows x 2 columns]>\n"
     ]
    }
   ],
   "source": [
    "# Import data into a Pandas dataframe\n",
    "canopy = pd.read_csv(\"C:/Users/jam19e/dataschool/machine_learning/data/2015_ACRI_LW_3.csv\",\n",
    "                     header = [0],  # Strings for our column headings\n",
    "                     #skiprows=1,     # Skip the header row\n",
    "                     parse_dates=[0]) # Parse the first column as a date type\n",
    "print(type(canopy))\n",
    "print(type(canopy['Datetime'][0]))\n",
    "print(type(canopy['Canopytemp'][0]))\n",
    "print(canopy.head)"
   ]
  },
  {
   "cell_type": "code",
   "execution_count": null,
   "metadata": {},
   "outputs": [],
   "source": [
    "canopy.plot(x=\"Datetime\",\n",
    "            y=\"Canopytemp\",\n",
    "            ylim=[0, 50],\n",
    "            legend=False)\n",
    "plt.show()\n",
    "sns.pairplot(canopy, hue=\"Canopytemp\")\n",
    "sns.heatmap(canopy.corr(),cmap=\"YlGnBu\")"
   ]
  },
  {
   "cell_type": "markdown",
   "metadata": {},
   "source": [
    "## Data Cleaning"
   ]
  },
  {
   "cell_type": "markdown",
   "metadata": {},
   "source": [
    "Often raw data comes with missing or erroneous entries. We already saw in the data header above that missing enrties have been filled with '99999.9', sometimes datasets might use 'NaN', 'NA', 'null' or just empty whitespace. This will ultimately depend on how your dataset was created and cannot be predicted apriori. So you will need to inspect your dataset or the apropriate schema to identify the keyword you are looking for.\n",
    "\n",
    "We can easily remove the rows, but depending on your application that might not be the best solution. Pandas dataframes also have an [`interpolate`](http://pandas.pydata.org/pandas-docs/version/0.17.1/generated/pandas.DataFrame.interpolate.html) method that can interpolate missing data for you. I will show you both approaches here."
   ]
  },
  {
   "cell_type": "code",
   "execution_count": 68,
   "metadata": {},
   "outputs": [],
   "source": [
    "# Select rows where the temperature is not equal to NaN\n",
    "#canopy_removed_date = canopy.query('Datetime != NaT')\n",
    "#canopy_removed_canopy = canopy.query('Canopytemp != NaN')\n",
    "bool_index=canopy['Datetime'] != 'NaT'\n",
    "canopy_removed = canopy[bool_index]\n",
    "\n",
    "#print(Datetime.size)\n",
    "#print(canopy_removed_Datetime.size)\n",
    "#print(Canopytemp.size)\n",
    "#print(canopy_removed_Canopytemp.size)\n",
    "#print(min_removed_df"
   ]
  },
  {
   "cell_type": "code",
   "execution_count": null,
   "metadata": {},
   "outputs": [],
   "source": []
  },
  {
   "cell_type": "code",
   "execution_count": null,
   "metadata": {},
   "outputs": [],
   "source": []
  },
  {
   "cell_type": "code",
   "execution_count": 44,
   "metadata": {
    "collapsed": true
   },
   "outputs": [
    {
     "name": "stdout",
     "output_type": "stream",
     "text": [
      "54240\n",
      "53406\n"
     ]
    }
   ],
   "source": [
    "# Select rows where the temperature is not equal to 99999.9\n",
    "min_removed_df = min_df.query('min_temp != 99999.9')\n",
    "max_removed_df = max_df.query('max_temp != 99999.9')\n",
    "print(min_df.size)\n",
    "print(min_removed_df.size)\n",
    "#print(min_removed_df\n"
   ]
  },
  {
   "cell_type": "markdown",
   "metadata": {},
   "source": [
    "Now let's look at interpolation. If we want to use the built Pandas method we need our NaNs to actually be NaNs. So let's first do that"
   ]
  },
  {
   "cell_type": "code",
   "execution_count": 69,
   "metadata": {},
   "outputs": [
    {
     "ename": "NameError",
     "evalue": "name 'NaN' is not defined",
     "output_type": "error",
     "traceback": [
      "\u001b[1;31m---------------------------------------------------------------------------\u001b[0m",
      "\u001b[1;31mNameError\u001b[0m                                 Traceback (most recent call last)",
      "\u001b[1;32m<ipython-input-69-eb59d51bb5b4>\u001b[0m in \u001b[0;36m<module>\u001b[1;34m()\u001b[0m\n\u001b[0;32m      2\u001b[0m \u001b[1;33m\u001b[0m\u001b[0m\n\u001b[0;32m      3\u001b[0m \u001b[1;31m# Replace the missing values with Numpy NaNs\u001b[0m\u001b[1;33m\u001b[0m\u001b[1;33m\u001b[0m\u001b[0m\n\u001b[1;32m----> 4\u001b[1;33m canopy_removed = canopy.replace(to_replace=NaN,\n\u001b[0m\u001b[0;32m      5\u001b[0m                             value=np.nan)\n\u001b[0;32m      6\u001b[0m \u001b[1;31m#date_nan = canopy.replace(to_replace=NaT,\u001b[0m\u001b[1;33m\u001b[0m\u001b[1;33m\u001b[0m\u001b[0m\n",
      "\u001b[1;31mNameError\u001b[0m: name 'NaN' is not defined"
     ]
    }
   ],
   "source": [
    "import numpy as np\n",
    "\n",
    "# Replace the missing values with Numpy NaNs\n",
    "canopy_removed = canopy.replace(to_replace=NaN,\n",
    "                            value=np.nan)\n",
    "#date_nan = canopy.replace(to_replace=NaT,\n",
    "                            #value=np.nan)\n",
    "\n",
    "print(canopy_nan)"
   ]
  },
  {
   "cell_type": "code",
   "execution_count": 48,
   "metadata": {
    "collapsed": true
   },
   "outputs": [],
   "source": [
    "import numpy as np\n",
    "\n",
    "# Replace the missing values with Numpy NaNs\n",
    "min_nan_df = min_df.replace(to_replace=99999.9,\n",
    "                            value=np.nan)\n",
    "max_nan_df = max_df.replace(to_replace=99999.9,\n",
    "                            value=np.nan)\n",
    "\n",
    "#print(min_nan_df)"
   ]
  },
  {
   "cell_type": "code",
   "execution_count": 49,
   "metadata": {
    "collapsed": true
   },
   "outputs": [],
   "source": []
  },
  {
   "cell_type": "code",
   "execution_count": null,
   "metadata": {},
   "outputs": [],
   "source": []
  },
  {
   "cell_type": "code",
   "execution_count": 50,
   "metadata": {
    "collapsed": true
   },
   "outputs": [
    {
     "data": {
      "image/png": "[encoded data removed]",
      "text/plain": [
       "<Figure size 432x288 with 1 Axes>"
      ]
     },
     "metadata": {},
     "output_type": "display_data"
    }
   ],
   "source": [
    "min_interpolated_df.plot(x=\"date\",\n",
    "                         y=\"min_temp\",\n",
    "                         legend=False)\n",
    "plt.show()"
   ]
  },
  {
   "cell_type": "markdown",
   "metadata": {},
   "source": [
    "**Challenge -** The Pandas dataframe class also has a [dropna](https://pandas.pydata.org/pandas-docs/stable/generated/pandas.DataFrame.dropna.html) method. Maybe you could try to remove the NaNs using this method instead of the indexing technique we used above."
   ]
  },
  {
   "cell_type": "code",
   "execution_count": null,
   "metadata": {},
   "outputs": [],
   "source": []
  },
  {
   "cell_type": "markdown",
   "metadata": {},
   "source": [
    "Depending on what you intend to do with your data you may also need to remove any outliers. Looking at our data above it seems that we probably don't have that problem, however I will show you how it is done should you need to in the future."
   ]
  },
  {
   "cell_type": "code",
   "execution_count": null,
   "metadata": {},
   "outputs": [],
   "source": []
  },
  {
   "cell_type": "code",
   "execution_count": 51,
   "metadata": {
    "collapsed": true
   },
   "outputs": [
    {
     "name": "stdout",
     "output_type": "stream",
     "text": [
      "The statistical properties for our minimum temperature time series are:\n",
      "    - min  = -4.90\n",
      "    - mean =  8.97\n",
      "    - max  =  28.90\n",
      "    - std  =  4.61\n"
     ]
    }
   ],
   "source": [
    "min_temp_min = min_interpolated_df['min_temp'].min()\n",
    "min_temp_mean = min_interpolated_df['min_temp'].mean()\n",
    "min_temp_max = min_interpolated_df['min_temp'].max()\n",
    "min_temp_std = min_interpolated_df['min_temp'].std()\n",
    "\n",
    "print(\"The statistical properties for our minimum temperature time series are:\")\n",
    "print(\"    - min  = {: 4.2f}\".format(min_temp_min))\n",
    "print(\"    - mean = {: 4.2f}\".format(min_temp_mean))\n",
    "print(\"    - max  = {: 4.2f}\".format(min_temp_max))\n",
    "print(\"    - std  = {: 4.2f}\".format(min_temp_std))"
   ]
  },
  {
   "cell_type": "code",
   "execution_count": 52,
   "metadata": {
    "collapsed": true
   },
   "outputs": [
    {
     "name": "stdout",
     "output_type": "stream",
     "text": [
      "27055\n",
      "27120\n"
     ]
    }
   ],
   "source": [
    "from scipy import stats\n",
    "min_temp_no_outliers_df = min_interpolated_df[np.abs(stats.zscore(min_interpolated_df[\"min_temp\"])) < 3]\n",
    "print(len(min_temp_no_outliers_df))\n",
    "print(len(min_interpolated_df))"
   ]
  },
  {
   "cell_type": "code",
   "execution_count": null,
   "metadata": {
    "collapsed": true
   },
   "outputs": [],
   "source": [
    "min_temp_no_outliers_df.plot(x=\"date\",\n",
    "                         y=\"min_temp\",\n",
    "                         legend=False)\n",
    "plt.show()"
   ]
  },
  {
   "cell_type": "markdown",
   "metadata": {},
   "source": [
    "**Challenge -** It is breifly covered in the unsupervised learning notebook, but [Scikit-Learn](http://scikit-learn.org/stable/) has some [novelty and outlier detection](http://scikit-learn.org/stable/modules/outlier_detection.html) methods that can be used to clean your too. Perhaps you might try applying one of those?"
   ]
  },
  {
   "cell_type": "markdown",
   "metadata": {},
   "source": [
    "## Scaling Data"
   ]
  },
  {
   "cell_type": "markdown",
   "metadata": {},
   "source": [
    "Many machine learning algorithms perform better when the input data lies in a given range, typically $[0,1]$ or $[-1,1]$. More specifically algorithms are often built on the assumption that the input distribution is normal, that it has a zero mean, $\\mu=0$, and unit variance, $\\sigma^2=1$. Furthermore when combining features of different scales it is usually beneficial to normalise features so that they are comparable. In our example our two features probably aren't too different so it might be okay, but consider what might happen if we also wanted to include the local air pressure (which is in the range of 1000's of Pa) or humidity (maybe expressed as a fraction, $[0,1]$).\n",
    "\n",
    "There are two common approaches to scaling data (although there are many more) and which one you choose will depend on your dataset and the machine learning algorithm you have in mind. The first is *min-max* scaling. This works just as it sounds, you simply subtract the minimum value and divide by the range (which is given by the max - min):\n",
    "\n",
    "$$ \\tilde{X}_{\\text{min-max}} = \\frac{X - \\min(x)}{\\max(X) - \\min(X)} $$\n",
    "\n",
    "Min-max scaling will transform your distribution such that it lies within the unit interval, $[0,1]$, however it is susceptible to outliers as they can obviously skew the $\\min$ and $\\max$ statistics.\n",
    "\n",
    "The second scaling method is *standardisation* (sometimes confusingly called *normalisation*). This is where data is transformed by first subtracting the mean, then dividing by the variance:\n",
    "\n",
    "$$ \\tilde{X}_{\\text{standardisation}} = \\frac{X - \\mu}{\\sigma^2} $$\n",
    "\n",
    "Standardisation is less susceptible to outliers than min-max scaling, although there is still some vulnerability there. The main difference is that it will not clamp that range to specified values. It will simply centralise the mean and ensure there is unit variance.\n",
    "\n",
    "Fortunately there are some built in functions in [Scikit-Learn](http://scikit-learn.org/stable/) that will do all the heavy lifting for us. Let's start off the the [`minmax_scale`](http://scikit-learn.org/stable/modules/generated/sklearn.preprocessing.minmax_scale.html#sklearn.preprocessing.minmax_scale) function. Can you guess which scaling algorithm it applies?"
   ]
  },
  {
   "cell_type": "code",
   "execution_count": null,
   "metadata": {},
   "outputs": [],
   "source": []
  },
  {
   "cell_type": "code",
   "execution_count": 53,
   "metadata": {
    "collapsed": true
   },
   "outputs": [
    {
     "data": {
      "image/png": "[encoded data removed]",
      "text/plain": [
       "<Figure size 432x288 with 1 Axes>"
      ]
     },
     "metadata": {},
     "output_type": "display_data"
    }
   ],
   "source": [
    "from sklearn.preprocessing import minmax_scale\n",
    "\n",
    "min_temp_min_max_scaled_df = min_interpolated_df.copy()\n",
    "\n",
    "min_temp_min_max_scaled_df[\"min_temp\"] = minmax_scale(min_interpolated_df[\"min_temp\"])\n",
    "\n",
    "min_temp_min_max_scaled_df.plot(x=\"date\",\n",
    "                                y=\"min_temp\",\n",
    "                                legend=False)\n",
    "plt.show()"
   ]
  },
  {
   "cell_type": "markdown",
   "metadata": {},
   "source": [
    "Scitkit-Learn also has a nice function for standardisation, called simply [`scale`](http://scikit-learn.org/stable/modules/generated/sklearn.preprocessing.scale.html#sklearn.preprocessing.scale)."
   ]
  },
  {
   "cell_type": "code",
   "execution_count": 54,
   "metadata": {
    "collapsed": true
   },
   "outputs": [
    {
     "data": {
      "image/png": "[encoded data removed]",
      "text/plain": [
       "<Figure size 432x288 with 1 Axes>"
      ]
     },
     "metadata": {},
     "output_type": "display_data"
    }
   ],
   "source": [
    "from sklearn.preprocessing import scale\n",
    "\n",
    "min_temp_standardised_df = min_interpolated_df.copy()\n",
    "\n",
    "min_temp_standardised_df[\"min_temp\"] = scale(min_temp_standardised_df[\"min_temp\"])\n",
    "\n",
    "min_temp_standardised_df.plot(x=\"date\",\n",
    "                                y=\"min_temp\",\n",
    "                                legend=False)\n",
    "plt.show()"
   ]
  },
  {
   "cell_type": "markdown",
   "metadata": {},
   "source": [
    "Notice the different ranges for the two different scaling methods, also notice the different mean values for each. We mentioned before that both of these methods may not be suitable when there are outliers in your data. Scikit-Learn also has a [`robust_scale`](http://scikit-learn.org/stable/modules/generated/sklearn.preprocessing.robust_scale.html#sklearn.preprocessing.robust_scale) function that might be more appropriate in these circumstances. "
   ]
  },
  {
   "cell_type": "code",
   "execution_count": 55,
   "metadata": {
    "collapsed": true
   },
   "outputs": [
    {
     "data": {
      "image/png": "[encoded data removed]",
      "text/plain": [
       "<Figure size 432x288 with 1 Axes>"
      ]
     },
     "metadata": {},
     "output_type": "display_data"
    }
   ],
   "source": [
    "from sklearn.preprocessing import robust_scale\n",
    "\n",
    "min_temp_robust_scale_df = min_interpolated_df.copy()\n",
    "\n",
    "min_temp_robust_scale_df[\"min_temp\"] = robust_scale(min_temp_robust_scale_df[\"min_temp\"].values.reshape(-1, 1))\n",
    "\n",
    "min_temp_robust_scale_df.plot(x=\"date\",\n",
    "                              y=\"min_temp\",\n",
    "                              legend=False)\n",
    "plt.show()"
   ]
  },
  {
   "cell_type": "markdown",
   "metadata": {},
   "source": [
    "## Reshaping"
   ]
  },
  {
   "cell_type": "markdown",
   "metadata": {},
   "source": [
    "Hooray!!! Our data is cleaned and scaled, ready for training some advanced machine learning algorithms. Right?\n",
    "\n",
    "**Wrong**. Depending on the machine learning algorithm you are applying and the particular machine learning framework you are developing with you will still need to munge and reshape your data such that it fits the expect input shape. Say, for example we needed to have our two seperate features combine into a single vector."
   ]
  },
  {
   "cell_type": "code",
   "execution_count": 70,
   "metadata": {
    "collapsed": true
   },
   "outputs": [],
   "source": [
    "max_temp_robust_scale_df = max_interpolated_df.copy()\n",
    "\n",
    "max_temp_robust_scale_df[\"max_temp\"] = robust_scale(max_temp_robust_scale_df[\"max_temp\"].values.reshape(-1, 1))"
   ]
  },
  {
   "cell_type": "code",
   "execution_count": 73,
   "metadata": {
    "collapsed": true
   },
   "outputs": [
    {
     "name": "stdout",
     "output_type": "stream",
     "text": [
      "<bound method NDFrame.head of             date  min_temp  max_temp\n",
      "0     1943-10-02 -0.400000 -0.315789\n",
      "1     1943-10-03 -0.246154 -0.315789\n",
      "2     1943-10-04 -0.092308  0.684211\n",
      "3     1943-10-05 -0.600000  0.131579\n",
      "4     1943-10-06 -1.307692 -0.486842\n",
      "5     1943-10-07 -1.046154 -0.381579\n",
      "6     1943-10-08 -0.415385 -0.368421\n",
      "7     1943-10-09 -0.415385 -0.644737\n",
      "8     1943-10-10 -0.092308 -0.078947\n",
      "9     1943-10-11 -0.015385 -0.565789\n",
      "10    1943-10-12 -0.046154 -0.578947\n",
      "11    1943-10-13 -0.430769 -0.473684\n",
      "12    1943-10-14 -0.323077 -0.328947\n",
      "13    1943-10-15 -0.323077 -0.355263\n",
      "14    1943-10-16 -1.369231  0.157895\n",
      "15    1943-10-17 -0.730769  0.368421\n",
      "16    1943-10-18 -0.092308  0.342105\n",
      "17    1943-10-19  0.046154 -0.065789\n",
      "18    1943-10-20 -0.200000 -0.328947\n",
      "19    1943-10-21 -0.323077 -0.039474\n",
      "20    1943-10-22 -0.276923  0.013158\n",
      "21    1943-10-23  0.215385  0.131579\n",
      "22    1943-10-24  0.215385 -0.250000\n",
      "23    1943-10-25 -0.092308 -0.263158\n",
      "24    1943-10-26 -0.584615 -0.552632\n",
      "25    1943-10-27 -0.461538 -0.381579\n",
      "26    1943-10-28 -0.600000 -0.197368\n",
      "27    1943-10-29  0.400000  1.000000\n",
      "28    1943-10-30 -0.292308  0.750000\n",
      "29    1943-10-31 -0.292308 -0.171053\n",
      "...          ...       ...       ...\n",
      "27090 2017-12-02  0.830769 -0.368421\n",
      "27091 2017-12-03  0.307692 -0.197368\n",
      "27092 2017-12-04  0.492308 -0.105263\n",
      "27093 2017-12-05  0.215385  0.355263\n",
      "27094 2017-12-06  0.907692  0.394737\n",
      "27095 2017-12-07  0.076923  0.500000\n",
      "27096 2017-12-08  0.092308  0.039474\n",
      "27097 2017-12-09  0.369231  0.736842\n",
      "27098 2017-12-10  0.323077  0.328947\n",
      "27099 2017-12-11  0.969231  0.289474\n",
      "27100 2017-12-12  1.015385  1.236842\n",
      "27101 2017-12-13  0.646154  2.500000\n",
      "27102 2017-12-14  1.753846  0.789474\n",
      "27103 2017-12-15  0.646154  0.697368\n",
      "27104 2017-12-16  0.338462  0.565789\n",
      "27105 2017-12-17  1.138462  0.710526\n",
      "27106 2017-12-18  0.969231  1.671053\n",
      "27107 2017-12-19  1.661538  2.684211\n",
      "27108 2017-12-20  0.892308  0.815789\n",
      "27109 2017-12-21  0.092308  0.486842\n",
      "27110 2017-12-22  1.015385  0.842105\n",
      "27111 2017-12-23  0.446154  1.131579\n",
      "27112 2017-12-24  0.846154  0.184211\n",
      "27113 2017-12-25  0.984615  0.368421\n",
      "27114 2017-12-26  0.938462  1.184211\n",
      "27115 2017-12-27  1.107692  2.276316\n",
      "27116 2017-12-28  2.200000  1.960526\n",
      "27117 2017-12-29  1.461538  0.763158\n",
      "27118 2017-12-30  0.753846  0.526316\n",
      "27119 2017-12-31  0.076923  0.815789\n",
      "\n",
      "[27120 rows x 3 columns]>\n"
     ]
    }
   ],
   "source": [
    "combined_temp_df = min_temp_robust_scale_df.merge(max_temp_robust_scale_df,\n",
    "                                                  on=\"date\",\n",
    "                                                  how=\"inner\",\n",
    "                                                 )\n",
    "print(combined_temp_df.head)"
   ]
  },
  {
   "cell_type": "markdown",
   "metadata": {},
   "source": [
    "Sometimes its nicer to set the index to something useful as well. We can use the date as a unqiue index for each data point"
   ]
  },
  {
   "cell_type": "code",
   "execution_count": 74,
   "metadata": {
    "collapsed": true
   },
   "outputs": [
    {
     "name": "stdout",
     "output_type": "stream",
     "text": [
      "<bound method NDFrame.head of             min_temp  max_temp\n",
      "date                          \n",
      "1943-10-02 -0.400000 -0.315789\n",
      "1943-10-03 -0.246154 -0.315789\n",
      "1943-10-04 -0.092308  0.684211\n",
      "1943-10-05 -0.600000  0.131579\n",
      "1943-10-06 -1.307692 -0.486842\n",
      "1943-10-07 -1.046154 -0.381579\n",
      "1943-10-08 -0.415385 -0.368421\n",
      "1943-10-09 -0.415385 -0.644737\n",
      "1943-10-10 -0.092308 -0.078947\n",
      "1943-10-11 -0.015385 -0.565789\n",
      "1943-10-12 -0.046154 -0.578947\n",
      "1943-10-13 -0.430769 -0.473684\n",
      "1943-10-14 -0.323077 -0.328947\n",
      "1943-10-15 -0.323077 -0.355263\n",
      "1943-10-16 -1.369231  0.157895\n",
      "1943-10-17 -0.730769  0.368421\n",
      "1943-10-18 -0.092308  0.342105\n",
      "1943-10-19  0.046154 -0.065789\n",
      "1943-10-20 -0.200000 -0.328947\n",
      "1943-10-21 -0.323077 -0.039474\n",
      "1943-10-22 -0.276923  0.013158\n",
      "1943-10-23  0.215385  0.131579\n",
      "1943-10-24  0.215385 -0.250000\n",
      "1943-10-25 -0.092308 -0.263158\n",
      "1943-10-26 -0.584615 -0.552632\n",
      "1943-10-27 -0.461538 -0.381579\n",
      "1943-10-28 -0.600000 -0.197368\n",
      "1943-10-29  0.400000  1.000000\n",
      "1943-10-30 -0.292308  0.750000\n",
      "1943-10-31 -0.292308 -0.171053\n",
      "...              ...       ...\n",
      "2017-12-02  0.830769 -0.368421\n",
      "2017-12-03  0.307692 -0.197368\n",
      "2017-12-04  0.492308 -0.105263\n",
      "2017-12-05  0.215385  0.355263\n",
      "2017-12-06  0.907692  0.394737\n",
      "2017-12-07  0.076923  0.500000\n",
      "2017-12-08  0.092308  0.039474\n",
      "2017-12-09  0.369231  0.736842\n",
      "2017-12-10  0.323077  0.328947\n",
      "2017-12-11  0.969231  0.289474\n",
      "2017-12-12  1.015385  1.236842\n",
      "2017-12-13  0.646154  2.500000\n",
      "2017-12-14  1.753846  0.789474\n",
      "2017-12-15  0.646154  0.697368\n",
      "2017-12-16  0.338462  0.565789\n",
      "2017-12-17  1.138462  0.710526\n",
      "2017-12-18  0.969231  1.671053\n",
      "2017-12-19  1.661538  2.684211\n",
      "2017-12-20  0.892308  0.815789\n",
      "2017-12-21  0.092308  0.486842\n",
      "2017-12-22  1.015385  0.842105\n",
      "2017-12-23  0.446154  1.131579\n",
      "2017-12-24  0.846154  0.184211\n",
      "2017-12-25  0.984615  0.368421\n",
      "2017-12-26  0.938462  1.184211\n",
      "2017-12-27  1.107692  2.276316\n",
      "2017-12-28  2.200000  1.960526\n",
      "2017-12-29  1.461538  0.763158\n",
      "2017-12-30  0.753846  0.526316\n",
      "2017-12-31  0.076923  0.815789\n",
      "\n",
      "[27120 rows x 2 columns]>\n"
     ]
    }
   ],
   "source": [
    "#setting one of the variables as index\n",
    "combined_temp_df.set_index(\"date\",\n",
    "                           inplace=True,\n",
    "                          )\n",
    "print(combined_temp_df.head)"
   ]
  },
  {
   "cell_type": "markdown",
   "metadata": {},
   "source": [
    "## Pipelining - Luigi"
   ]
  },
  {
   "cell_type": "markdown",
   "metadata": {},
   "source": [
    "[Luigi](https://luigi.readthedocs.io/en/latest/) is a data processing pipeline tool developed by spotify to handle there day to day data mining tasks. It is designed to, \"handle dependency resolution, workflow management, visualization, handling failures, command line integration, and much more.\" "
   ]
  },
  {
   "cell_type": "code",
   "execution_count": null,
   "metadata": {
    "collapsed": true
   },
   "outputs": [],
   "source": [
    "import luigi"
   ]
  },
  {
   "cell_type": "markdown",
   "metadata": {},
   "source": [
    "Luigi operates as a command line tool, so we can't enter code directly into a Jupyter notebook. Instead I have input the below code into a file `luigi_pipeline.py` that we can run using the bash magic command."
   ]
  },
  {
   "cell_type": "markdown",
   "metadata": {},
   "source": [
    "```python\n",
    "import luigi\n",
    "import requests\n",
    "\n",
    "import numpy as np\n",
    "import pandas as pd\n",
    "\n",
    "from sklearn.preprocessing import robust_scale\n",
    "\n",
    "MIN_DATA_URL = \"http://www.bom.gov.au/climate/change/acorn/sat/data/acorn.sat.minT.087031.daily.txt\"\n",
    "MAX_DATA_URL = \"http://www.bom.gov.au/climate/change/acorn/sat/data/acorn.sat.maxT.087031.daily.txt\"\n",
    "\n",
    "class DownloadMinTemperatures(luigi.Task):\n",
    "    def requires(self):\n",
    "        return []\n",
    " \n",
    "    def output(self):\n",
    "        return luigi.LocalTarget(\"min_temps.csv\")\n",
    " \n",
    "    def run(self):\n",
    "        min_string_data = requests.get(MIN_DATA_URL).text\n",
    "        min_list_data = min_string_data.split(\"\\n\")\n",
    "\n",
    "        with self.output().open('w') as out_file:\n",
    "            for min_temp in min_list_data:\n",
    "                out_line = min_temp\n",
    "                out_file.write((out_line + '\\n'))\n",
    "\n",
    "class ImportMinTemperatures(luigi.Task):\n",
    "    def requires(self):\n",
    "        return [DownloadMinTemperatures()]\n",
    " \n",
    "    def output(self):\n",
    "        return luigi.LocalTarget(\"min_temps.df\")\n",
    " \n",
    "    def run(self):\n",
    "        min_df = pd.read_csv(self.input()[0].open(),\n",
    "                             delim_whitespace=True,       # Let Pandas know that white space is our delimiter\n",
    "                             names=[\"date\", \"min_temp\"],  # Strings for our column headings\n",
    "                             skiprows=1,                  # Skip the header row\n",
    "                             parse_dates=[0])             # Parse the first column as a date type\n",
    "\n",
    "        with self.output().open('w') as min_file:\n",
    "            min_df.to_csv(min_file,\n",
    "                          sep='\\t',\n",
    "                          encoding='utf-8',\n",
    "                          index=None)\n",
    "\n",
    "class RemoveMinTempNaNs(luigi.Task):\n",
    "    def requires(self):\n",
    "        return [ImportMinTemperatures()]\n",
    " \n",
    "    def output(self):\n",
    "        return luigi.LocalTarget(\"clean_min_temps.df\")\n",
    " \n",
    "    def run(self):\n",
    "        min_df = pd.read_csv(self.input()[0].open(),\n",
    "                             delim_whitespace=True,       # Let Pandas know that white space is our delimiter\n",
    "                             names=[\"date\", \"min_temp\"],  # Strings for our column headings\n",
    "                             skiprows=1,                  # Skip the header row\n",
    "                             parse_dates=[0])             # Parse the first column as a date type\n",
    "\n",
    "        # Replace the missing values with Numpy NaNs\n",
    "        min_nan_df = min_df.replace(to_replace=99999.9,\n",
    "                                    value=np.nan)\n",
    "        min_interpolated_df = min_nan_df.interpolate()\n",
    "\n",
    "        with self.output().open('w') as min_file:\n",
    "            min_interpolated_df.to_csv(min_file,\n",
    "                                       sep='\\t',\n",
    "                                       encoding='utf-8',\n",
    "                                       index=None)\n",
    "\n",
    "class StandardiseMinTemps(luigi.Task):\n",
    "    def requires(self):\n",
    "        return [RemoveMinTempNaNs()]\n",
    " \n",
    "    def output(self):\n",
    "        return luigi.LocalTarget(\"normalised_min_temps.df\")\n",
    " \n",
    "    def run(self):\n",
    "        min_df = pd.read_csv(self.input()[0].open(),\n",
    "                             delim_whitespace=True,       # Let Pandas know that white space is our delimiter\n",
    "                             names=[\"date\", \"min_temp\"],  # Strings for our column headings\n",
    "                             skiprows=1,                  # Skip the header row\n",
    "                             parse_dates=[0])             # Parse the first column as a date type\n",
    "\n",
    "        min_df[\"min_temp\"] = robust_scale(min_df[\"min_temp\"])\n",
    "\n",
    "        with self.output().open('w') as min_file:\n",
    "            min_df.to_csv(min_file,\n",
    "                          sep='\\t',\n",
    "                          encoding='utf-8',\n",
    "                          index=None)\n",
    "\n",
    "class DownloadMaxTemperatures(luigi.Task):\n",
    "    def requires(self):\n",
    "        return []\n",
    " \n",
    "    def output(self):\n",
    "        return luigi.LocalTarget(\"max_temps.csv\")\n",
    " \n",
    "    def run(self):\n",
    "        max_string_data = requests.get(MAX_DATA_URL).text\n",
    "        max_list_data = max_string_data.split(\"\\n\")\n",
    "\n",
    "        with self.output().open('w') as out_file:\n",
    "            for max_temp in max_list_data:\n",
    "                out_line = max_temp\n",
    "                out_file.write((out_line + '\\n'))\n",
    "\n",
    "class ImportMaxTemperatures(luigi.Task):\n",
    "    def requires(self):\n",
    "        return [DownloadMaxTemperatures()]\n",
    " \n",
    "    def output(self):\n",
    "        return luigi.LocalTarget(\"max_temps.df\")\n",
    " \n",
    "    def run(self):\n",
    "        max_df = pd.read_csv(self.input()[0].open(),\n",
    "                             delim_whitespace=True,       # Let Pandas know that white space is our delimiter\n",
    "                             names=[\"date\", \"max_temp\"],  # Strings for our column headings\n",
    "                             skiprows=1,                  # Skip the header row\n",
    "                             parse_dates=[0])             # Parse the first column as a date type\n",
    "\n",
    "        with self.output().open('w') as max_file:\n",
    "            max_df.to_csv(max_file,\n",
    "                          sep='\\t',\n",
    "                          encoding='utf-8',\n",
    "                          index=None)\n",
    "\n",
    "class RemoveMaxTempNaNs(luigi.Task):\n",
    "    def requires(self):\n",
    "        return [ImportMaxTemperatures()]\n",
    " \n",
    "    def output(self):\n",
    "        return luigi.LocalTarget(\"clean_max_temps.df\")\n",
    " \n",
    "    def run(self):\n",
    "        max_df = pd.read_csv(self.input()[0].open(),\n",
    "                             delim_whitespace=True,       # Let Pandas know that white space is our delimiter\n",
    "                             names=[\"date\", \"max_temp\"],  # Strings for our column headings\n",
    "                             skiprows=1,                  # Skip the header row\n",
    "                             parse_dates=[0])             # Parse the first column as a date type\n",
    "\n",
    "        # Replace the missing values with Numpy NaNs\n",
    "        max_nan_df = max_df.replace(to_replace=99999.9,\n",
    "                                    value=np.nan)\n",
    "        max_interpolated_df = max_nan_df.interpolate()\n",
    "\n",
    "        with self.output().open('w') as max_file:\n",
    "            max_interpolated_df.to_csv(max_file,\n",
    "                                       sep='\\t',\n",
    "                                       encoding='utf-8',\n",
    "                                       index=None)\n",
    "\n",
    "class StandardiseMaxTemps(luigi.Task):\n",
    "    def requires(self):\n",
    "        return [RemoveMaxTempNaNs()]\n",
    " \n",
    "    def output(self):\n",
    "        return luigi.LocalTarget(\"normalised_max_temps.df\")\n",
    " \n",
    "    def run(self):\n",
    "        max_df = pd.read_csv(self.input()[0].open(),\n",
    "                             delim_whitespace=True,       # Let Pandas know that white space is our delimiter\n",
    "                             names=[\"date\", \"max_temp\"],  # Strings for our column headings\n",
    "                             skiprows=1,                  # Skip the header row\n",
    "                             parse_dates=[0])             # Parse the first column as a date type\n",
    "\n",
    "        max_df[\"max_temp\"] = robust_scale(max_df[\"max_temp\"])\n",
    "\n",
    "        with self.output().open('w') as max_file:\n",
    "            max_df.to_csv(max_file,\n",
    "                          sep='\\t',\n",
    "                          encoding='utf-8',\n",
    "                          index=None)\n",
    "\n",
    "class CombineTemps(luigi.Task):\n",
    "    def requires(self):\n",
    "        return [StandardiseMinTemps(), StandardiseMaxTemps()]\n",
    " \n",
    "    def output(self):\n",
    "        return luigi.LocalTarget(\"comnined_temps.df\")\n",
    " \n",
    "    def run(self):\n",
    "        min_df = pd.read_csv(self.input()[0].open(),\n",
    "                             delim_whitespace=True,       # Let Pandas know that white space is our delimiter\n",
    "                             names=[\"date\", \"max_temp\"],  # Strings for our column headings\n",
    "                             skiprows=1,                  # Skip the header row\n",
    "                             parse_dates=[0])             # Parse the first column as a date type\n",
    "        max_df = pd.read_csv(self.input()[1].open(),\n",
    "                             delim_whitespace=True,       # Let Pandas know that white space is our delimiter\n",
    "                             names=[\"date\", \"max_temp\"],  # Strings for our column headings\n",
    "                             skiprows=1,                  # Skip the header row\n",
    "                             parse_dates=[0])             # Parse the first column as a date type\n",
    "\n",
    "        combined_temp_df = min_df.merge(max_df,\n",
    "                                        on=\"date\",\n",
    "                                        how=\"inner\",\n",
    "                                       )\n",
    "        combined_temp_df.set_index(\"date\",\n",
    "                           inplace=True,\n",
    "                          )\n",
    "\n",
    "        with self.output().open('w') as combined_file:\n",
    "            combined_temp_df.to_csv(combined_file,\n",
    "                                    sep='\\t',\n",
    "                                    encoding='utf-8',\n",
    "                                    index=None)\n",
    "\n",
    "if __name__ == '__main__':\n",
    "    luigi.run()\n",
    "```"
   ]
  },
  {
   "cell_type": "code",
   "execution_count": null,
   "metadata": {
    "collapsed": true
   },
   "outputs": [],
   "source": [
    "!python -m luigi --module luigi_pipeline CombineTemps --local-scheduler"
   ]
  },
  {
   "cell_type": "markdown",
   "metadata": {},
   "source": [
    "## Pipelining - Scikit-Learn "
   ]
  },
  {
   "cell_type": "markdown",
   "metadata": {},
   "source": [
    "Many of the preprocessing functions we have been using from scikit-learn can also be stringed together using scikit-learns [pipeline](http://scikit-learn.org/stable/modules/classes.html#module-sklearn.pipeline) tools."
   ]
  },
  {
   "cell_type": "code",
   "execution_count": null,
   "metadata": {
    "collapsed": true
   },
   "outputs": [],
   "source": []
  }
 ],
 "metadata": {
  "anaconda-cloud": {},
  "kernelspec": {
   "display_name": "Python 3",
   "language": "python",
   "name": "python3"
  },
  "language_info": {
   "codemirror_mode": {
    "name": "ipython",
    "version": 3
   },
   "file_extension": ".py",
   "mimetype": "text/x-python",
   "name": "python",
   "nbconvert_exporter": "python",
   "pygments_lexer": "ipython3",
   "version": "3.6.5"
  }
 },
 "nbformat": 4,
 "nbformat_minor": 2
}
