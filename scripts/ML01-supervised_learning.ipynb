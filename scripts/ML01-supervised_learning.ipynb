{
 "cells": [
  {
   "cell_type": "markdown",
   "metadata": {},
   "source": [
    "# Supervised Learning"
   ]
  },
  {
   "cell_type": "markdown",
   "metadata": {},
   "source": [
    "Very simply put supervised learning is the process of fitting any given function to a set of labelled data. In the sections that follow we will walk through some of the more common supervised learning algorithms that are likely to encounter on the path to machine mastery. This notebook will try to use the [scikit-learn](http://scikit-learn.org/stable/ \"scikit-learn homepage\") library to implement each of these algorithms with ease and simplicity. The algorithms we will be looking at are:\n",
    "- [k-Nearest Neighbours](#knn)\n",
    "- [Naive Bayes](#naive_bayes)\n",
    "- [Linear Regression](#linear_regression)\n",
    "- [Logistic Regression](#logistic_regression)\n",
    "- [Decision Trees](#decision_trees)\n",
    "- [Support Vector Machines](#svm)"
   ]
  },
  {
   "cell_type": "markdown",
   "metadata": {},
   "source": [
    "Here is a great overview of the different classification techniques in `scikit-learn`.\n",
    "![sklearn classifier overview](http://scikit-learn.org/stable/_static/ml_map.png)"
   ]
  },
  {
   "cell_type": "code",
   "execution_count": 8,
   "metadata": {},
   "outputs": [],
   "source": [
    "# Import the necessary libraries\n",
    "import urllib\n",
    "from sklearn import datasets, model_selection, neighbors, linear_model, tree\n",
    "from sklearn.preprocessing import LabelEncoder, OneHotEncoder\n",
    "from matplotlib import pyplot as plt\n",
    "import seaborn as sns\n",
    "\n",
    "import numpy as np\n",
    "import pandas as pd"
   ]
  },
  {
   "cell_type": "code",
   "execution_count": 9,
   "metadata": {},
   "outputs": [],
   "source": [
    "# This is a handy plotting function\n",
    "from matplotlib.colors import ListedColormap\n",
    "\n",
    "def visualise_decision_surface(X, y, clf):\n",
    "    x_min, x_max = X[:, 0].min(), X[:, 0].max()\n",
    "    x_min -= 0.1*np.abs(x_min)\n",
    "    x_max += 0.1*np.abs(x_max)\n",
    "    y_min, y_max = X[:, 1].min(), X[:, 1].max()\n",
    "    y_min -= 0.1*np.abs(y_min)\n",
    "    y_max += 0.1*np.abs(y_max)\n",
    "    hx = (x_max - x_min) / 1000\n",
    "    hy = (y_max - y_min) / 1000\n",
    "    xx, yy = np.meshgrid(np.arange(x_min, x_max, hx),\n",
    "                         np.arange(y_min, y_max, hy))\n",
    "\n",
    "    Z = clf.predict(np.c_[xx.ravel(), yy.ravel()])\n",
    "    Z = Z.reshape(xx.shape)\n",
    "    \n",
    "    if type(Z[0][0]) == str:\n",
    "        y = (y == Z[0][0])\n",
    "        Z = (Z == Z[0][0])\n",
    "\n",
    "    my_cmap = ListedColormap(sns.color_palette(\"deep\").as_hex())\n",
    "    plt.contourf(xx, yy, Z, alpha=0.6, cmap=my_cmap)\n",
    "    plt.scatter(X[:, 0], X[:, 1], c=y, cmap=my_cmap)\n",
    "    plt.xlabel(r\"$x_1$\")\n",
    "    plt.ylabel(r\"$x_2$\")\n",
    "#     plt.show()"
   ]
  },
  {
   "cell_type": "markdown",
   "metadata": {},
   "source": [
    "## k-Nearest Neighbours <a id='knn'></a>"
   ]
  },
  {
   "cell_type": "markdown",
   "metadata": {},
   "source": [
    "k-Nearest Neighbours, or kNN, is one of the simplest supervised machine learning algorithms. It is non-parametric and instance based, meaning that it does not try to fit a global model to your data it merely remembers the instances it has been shown. First introduced in [1970](http://www.dtic.mil/dtic/tr/fulltext/u2/a800276.pdf \"Discriminatory analysis, nonparametric discrimination: Consistency properties\") the principle behind kNN is very simple; find $k$ points in the existing dataset that are \"closest\" to the point you wish to analyse, make a prediction based off their values.\n",
    "\n",
    "Some common metrics include:\n",
    "\n",
    "__Euclidean:__\n",
    "$$D_{\\textrm{Euclidean}}(x,x') = \\sqrt{\\sum_{i=1}^k \\left(x_i - x'_i\\right)^2} $$\n",
    "\n",
    "__Manhattan:__\n",
    "$$D_{\\textrm{Manhattan}}(x,x') = \\sum_{i=1}^k \\left|x_i - x'_i\\right| $$\n",
    "\n",
    "__Minkowski:__\n",
    "$$D_{\\textrm{Minkowski}}(x,x') = \\left(\\sum_{i=1}^k \\left(\\left|x_i - x'_i\\right|\\right)^q\\right)^{1/q} $$\n",
    "\n",
    "__Chebyshev:__\n",
    "$$D_{\\textrm{Chebyshev}}(x,x') = \\max_i\\left(\\left|x_i - x'_i\\right|\\right)$$\n",
    "\n",
    "__Hamming:__ (for categorical data)\n",
    "$$D_{\\textrm{Hamming}}(x,x') = \\sum_{i=1}^k \\left|x_i - x'_i\\right|, \\textrm{ where } D(x,x') = 0 \\textrm{ if } x=x' \\textrm{ and } D(x,x') = 1 \\textrm{ if } x\\ne x' $$\n",
    "\n",
    "Note that the Euclidean distance, $D_{\\textrm{Euclidean}}$, is simply the Minkowski distance, $D_{\\textrm{Minkowski}}$, with $q=2$. This is actually the default for the `KNeighborsClassifier` from `scikit-learn` that we are usin below.\n",
    "\n",
    "You could make your prediction in two ways, depending on your problem: either regression or classification. For example, given a dataset containing information on housing prices you could try to estimate the value of a property using *regression* (say by taking the average of your neighbours) or you could try to *classify* the property as, \"buy,\" \"sell\" or \"hold\" (by choosing the majority class in your neighbourhood)."
   ]
  },
  {
   "cell_type": "markdown",
   "metadata": {},
   "source": [
    "### kNN Classification "
   ]
  },
  {
   "cell_type": "markdown",
   "metadata": {},
   "source": [
    "Let's jump straight into it! Scikit-learn has a whole bunch of different [nearest neighbour](http://scikit-learn.org/stable/modules/neighbors.html \"sklearn nearest neighbour techniques\") implementations built in. Lets just play with some toy data for now"
   ]
  },
  {
   "cell_type": "code",
   "execution_count": 10,
   "metadata": {},
   "outputs": [
    {
     "name": "stdout",
     "output_type": "stream",
     "text": [
      "(12, 12)\n",
      "12\n",
      "12\n"
     ]
    }
   ],
   "source": [
    "VAR1 = (12, 12)\n",
    "print(VAR1)\n",
    "a, b = VAR1\n",
    "print(a)\n",
    "print(b)"
   ]
  },
  {
   "cell_type": "code",
   "execution_count": 11,
   "metadata": {
    "collapsed": true
   },
   "outputs": [],
   "source": [
    "X, y = datasets.make_classification(n_samples=1000, n_features=2, n_redundant=0)\n",
    "\n",
    "# Split into test / train sets and label / feature vectors\n",
    "X_train, X_test, y_train, y_test = model_selection.train_test_split(X, y)"
   ]
  },
  {
   "cell_type": "code",
   "execution_count": 12,
   "metadata": {},
   "outputs": [
    {
     "name": "stdout",
     "output_type": "stream",
     "text": [
      "[[-1.14011965 -1.56454085]\n",
      " [-0.81964772  1.78892218]\n",
      " [ 0.05834291 -0.01912664]\n",
      " ...\n",
      " [-1.37724121 -1.39737401]\n",
      " [-1.17164059  1.36858895]\n",
      " [ 0.06082368 -0.42320989]]\n",
      "[0 0 1 0 1 0 0 1 0 0 0 1 0 1 1 0 0 0 1 0 0 1 0 0 1 0 0 0 1 0 0 0 0 0 1 1 0\n",
      " 1 1 1 1 0 0 0 1 0 0 0 1 1 0 0 1 0 0 0 0 1 1 1 1 1 0 1 0 0 1 0 0 1 1 0 1 0\n",
      " 0 1 0 1 1 1 0 0 1 1 1 1 0 1 1 1 1 0 1 1 1 0 0 1 0 1 0 1 0 1 1 1 0 0 1 0 1\n",
      " 0 0 0 0 0 0 0 1 0 0 0 0 0 0 1 0 1 1 1 1 0 1 1 0 1 0 1 0 1 0 1 0 0 0 1 1 1\n",
      " 0 1 1 1 0 0 0 1 1 0 1 0 0 1 1 1 1 0 1 1 1 1 1 1 1 0 0 0 1 1 1 0 0 1 1 1 1\n",
      " 0 1 0 0 0 1 0 0 0 1 1 1 0 1 1 0 1 1 0 0 1 1 1 1 0 1 1 1 1 0 1 1 1 1 1 1 1\n",
      " 0 1 0 0 0 0 1 1 0 1 1 0 0 0 1 0 1 0 1 0 1 0 1 1 0 1 0 0 1 1 1 0 1 1 1 0 1\n",
      " 0 0 1 1 1 0 0 0 0 1 1 1 1 1 0 1 1 0 0 0 1 1 0 1 0 1 1 1 0 0 0 1 1 1 1 1 1\n",
      " 1 0 0 1 0 1 1 1 0 0 1 0 0 1 0 1 0 0 1 0 0 0 1 0 0 0 0 1 0 1 1 1 1 0 1 1 1\n",
      " 1 1 1 0 0 0 1 0 0 0 0 1 0 0 0 0 0 0 1 1 0 1 1 0 0 1 0 1 0 0 1 0 1 0 0 0 0\n",
      " 1 1 1 0 1 1 1 1 0 0 0 0 1 0 0 1 1 1 0 1 0 0 1 0 1 0 0 0 1 1 1 0 0 0 1 1 0\n",
      " 0 1 1 0 0 0 0 1 0 1 0 1 0 0 1 1 0 1 0 0 1 0 1 0 1 1 0 0 1 1 0 0 0 0 0 0 1\n",
      " 1 1 0 1 1 1 1 0 1 1 0 1 0 0 1 0 0 1 0 0 1 1 0 0 0 0 0 0 1 0 1 0 1 1 1 1 1\n",
      " 1 0 0 1 0 0 1 1 1 0 1 1 0 0 1 1 1 0 0 0 1 1 0 0 1 0 1 0 1 0 1 1 1 0 1 0 1\n",
      " 0 0 1 0 0 1 1 0 0 1 0 0 0 1 1 0 1 1 0 0 0 1 1 0 1 0 1 0 1 0 0 1 0 0 0 1 0\n",
      " 1 0 1 1 0 0 0 1 1 0 1 0 0 1 0 0 0 1 1 0 0 0 0 1 1 0 0 1 1 0 1 0 0 1 0 0 0\n",
      " 1 1 1 1 0 1 1 1 0 0 1 1 1 0 0 1 1 1 0 1 1 1 1 0 1 0 0 0 0 1 0 0 0 0 0 0 0\n",
      " 1 1 0 1 0 0 0 1 0 0 0 1 0 1 1 0 1 1 1 1 1 0 0 0 1 0 1 1 1 0 0 1 1 0 1 0 0\n",
      " 0 1 0 1 0 1 1 1 1 0 0 1 1 0 0 1 0 1 0 1 0 1 1 0 1 1 0 0 1 0 0 1 0 0 1 1 0\n",
      " 1 1 1 1 0 0 0 0 1 0 1 0 1 0 1 1 0 0 0 0 1 0 1 0 1 1 0 1 0 1 1 1 1 0 0 1 1\n",
      " 1 0 1 1 0 1 1 0 0 1 1 1 1 0 1 0 1 1 1 1 1 1 1 0 0 0 1 1 1 1 0 0 0 0 0 1 0\n",
      " 0 0 1 1 0 0 0 1 0 1 1 0 1 0 1 1 1 0 0 0 1 1 1 1 0 0 1 0 1 1 1 1 1 0 0 1 1\n",
      " 0 0 0 1 0 1 0 1 0 1 1 1 0 0 0 1 0 0 1 1 0 0 1 0 0 1 0 0 0 0 1 1 1 1 1 1 0\n",
      " 0 0 0 0 1 1 0 0 0 1 1 0 0 1 1 0 0 1 1 0 1 0 1 0 1 0 1 0 0 1 0 0 0 1 0 0 1\n",
      " 1 0 0 0 0 0 1 0 0 0 0 0 1 1 0 0 0 1 1 1 0 1 1 1 1 0 1 1 1 0 1 1 1 1 0 0 1\n",
      " 1 0 0 0 0 1 1 0 0 1 0 0 1 0 1 1 0 0 0 1 0 0 0 0 1 0 1 1 1 1 1 0 1 0 1 1 1\n",
      " 0 1 1 1 0 0 1 1 0 0 0 0 1 0 1 1 1 0 0 1 1 1 0 0 0 0 1 1 0 0 0 0 0 1 0 0 1\n",
      " 1]\n"
     ]
    }
   ],
   "source": [
    "print(X)\n",
    "print(y)"
   ]
  },
  {
   "cell_type": "code",
   "execution_count": 13,
   "metadata": {},
   "outputs": [
    {
     "data": {
      "text/plain": [
       "0.876"
      ]
     },
     "execution_count": 13,
     "metadata": {},
     "output_type": "execute_result"
    }
   ],
   "source": [
    "# Create classifier\n",
    "knn_classifier = neighbors.KNeighborsClassifier(200)\n",
    "knn_classifier.fit(X_train, \n",
    "                   y_train)\n",
    "\n",
    "# Classify test set\n",
    "knn_classifier.score(X_test,\n",
    "                     y_test)"
   ]
  },
  {
   "cell_type": "code",
   "execution_count": 14,
   "metadata": {},
   "outputs": [
    {
     "data": {
      "image/png": "[encoded data removed]",
      "text/plain": [
       "<Figure size 432x288 with 1 Axes>"
      ]
     },
     "metadata": {},
     "output_type": "display_data"
    }
   ],
   "source": [
    "visualise_decision_surface(X, y, knn_classifier)\n",
    "plt.plot([0.5], [0.5], \"rx\")\n",
    "plt.show()"
   ]
  },
  {
   "cell_type": "markdown",
   "metadata": {},
   "source": [
    "We are going to grab the [breast cancer Wisconsin](https://archive.ics.uci.edu/ml/datasets/Breast+Cancer+Wisconsin+%28Diagnostic%29 \"UCI repository breast cancer dataset\") from the [UCI ML repo](https://archive.ics.uci.edu/ml/index.php \"UCI machine learning repository\") and see if we can't classify some suspicious tumours as either \"benign\" or \"malignant.\" If you are interested in the dataset you can check out the [schema](https://archive.ics.uci.edu/ml/machine-learning-databases/breast-cancer-wisconsin/wdbc.names \"breast cancer Wisconsin dataset schema\"). This dataset should be a little more challenging as we now have an input vector of length 30."
   ]
  },
  {
   "cell_type": "code",
   "execution_count": 15,
   "metadata": {
    "collapsed": true
   },
   "outputs": [],
   "source": [
    "# Download the dataset and load it into pandas dataframe\n",
    "bcwd_url = \"https://archive.ics.uci.edu/ml/machine-learning-databases/breast-cancer-wisconsin/wdbc.data\"\n",
    "feature_names = [\"ID number\", \"diagnosis\",\n",
    "                 \"radius - mean\", \"texture - mean\", \"perimeter - mean\", \"area - mean\", \"smoothness - mean\", \"compactness - mean\", \"concavity - mean\", \"concave points - mean\", \"symmetry - mean\", \"fractal dimension - mean\",\n",
    "                 \"radius - std err\", \"texture - std err\", \"perimeter - std err\", \"area - std err\", \"smoothness - std err\", \"compactness - std err\", \"concavity - std err\", \"concave points - std err\", \"symmetry - std err\", \"fractal dimension - std err\",\n",
    "                 \"radius - largest\", \"texture - largest\", \"perimeter - largest\", \"area - largest\", \"smoothness - largest\", \"compactness - largest\", \"concavity - largest\", \"concave points - largest\", \"symmetry - largest\", \"fractal dimension - largest\"\n",
    "                ]\n",
    "mcwd_df = pd.read_csv(bcwd_url,\n",
    "                      delimiter=\",\",\n",
    "                      header=None,\n",
    "                      names=feature_names,    # Strings for our column headings\n",
    "                      index_col=0,\n",
    "                     )"
   ]
  },
  {
   "cell_type": "code",
   "execution_count": 16,
   "metadata": {},
   "outputs": [
    {
     "name": "stderr",
     "output_type": "stream",
     "text": [
      "C:\\Users\\jam19e\\AppData\\Local\\Continuum\\anaconda3\\lib\\site-packages\\ipykernel_launcher.py:4: FutureWarning: Method .as_matrix will be removed in a future version. Use .values instead.\n",
      "  after removing the cwd from sys.path.\n",
      "C:\\Users\\jam19e\\AppData\\Local\\Continuum\\anaconda3\\lib\\site-packages\\ipykernel_launcher.py:5: FutureWarning: Method .as_matrix will be removed in a future version. Use .values instead.\n",
      "  \"\"\"\n",
      "C:\\Users\\jam19e\\AppData\\Local\\Continuum\\anaconda3\\lib\\site-packages\\ipykernel_launcher.py:7: FutureWarning: Method .as_matrix will be removed in a future version. Use .values instead.\n",
      "  import sys\n",
      "C:\\Users\\jam19e\\AppData\\Local\\Continuum\\anaconda3\\lib\\site-packages\\ipykernel_launcher.py:8: FutureWarning: Method .as_matrix will be removed in a future version. Use .values instead.\n",
      "  \n"
     ]
    }
   ],
   "source": [
    "# Split into test / train sets and label / feature vectors\n",
    "train_df, test_df = model_selection.train_test_split(mcwd_df)\n",
    "\n",
    "X_train = train_df.iloc[:,-30:].as_matrix()\n",
    "y_train = train_df[\"diagnosis\"].as_matrix()\n",
    "\n",
    "X_test = test_df.iloc[:,-30:].as_matrix()\n",
    "y_test = test_df[\"diagnosis\"].as_matrix()\n",
    "\n",
    "X_vis = X_train[:, [0,4]]\n",
    "y_vis = y_train"
   ]
  },
  {
   "cell_type": "code",
   "execution_count": 17,
   "metadata": {},
   "outputs": [
    {
     "data": {
      "text/plain": [
       "KNeighborsClassifier(algorithm='auto', leaf_size=30, metric='minkowski',\n",
       "           metric_params=None, n_jobs=1, n_neighbors=200, p=2,\n",
       "           weights='uniform')"
      ]
     },
     "execution_count": 17,
     "metadata": {},
     "output_type": "execute_result"
    }
   ],
   "source": [
    "# Create classifier\n",
    "knn_classifier = neighbors.KNeighborsClassifier(200)\n",
    "knn_classifier.fit(X_train, \n",
    "                   y_train)"
   ]
  },
  {
   "cell_type": "code",
   "execution_count": 18,
   "metadata": {},
   "outputs": [
    {
     "data": {
      "text/plain": [
       "0.8531468531468531"
      ]
     },
     "execution_count": 18,
     "metadata": {},
     "output_type": "execute_result"
    }
   ],
   "source": [
    "# Classify test set\n",
    "knn_classifier.score(X_test,\n",
    "                     y_test)"
   ]
  },
  {
   "cell_type": "code",
   "execution_count": null,
   "metadata": {
    "collapsed": true
   },
   "outputs": [],
   "source": []
  },
  {
   "cell_type": "markdown",
   "metadata": {},
   "source": [
    "**Challenge -** You could try changing the number of nearest neighbours, $k$ and see how that affects the result. Try to optimse $k$. You can also try to play with the distance metric."
   ]
  },
  {
   "cell_type": "markdown",
   "metadata": {},
   "source": [
    "### kNN Regression "
   ]
  },
  {
   "cell_type": "markdown",
   "metadata": {},
   "source": [
    "This time we will use the [Beijing PM$_{2.5}$](https://archive.ics.uci.edu/ml/datasets/Beijing+PM2.5+Data \"UCI repository Beijing PM2.5 dataset\") from the [UCI ML repo](https://archive.ics.uci.edu/ml/index.php \"UCI machine learning repository\") to see wether we can do some regression using a kNN algorithm. We will see if we can predict the [PM$_{2.5}$](http://www.epa.vic.gov.au/your-environment/air/air-pollution/pm25-particles-in-air \"EPA description of PM2.5\") concentration in Beijing given the local weather conditions."
   ]
  },
  {
   "cell_type": "code",
   "execution_count": 19,
   "metadata": {
    "collapsed": true
   },
   "outputs": [],
   "source": [
    "# Download the dataset and load it into pandas dataframe\n",
    "pm25_url = \"https://archive.ics.uci.edu/ml/machine-learning-databases/00381/PRSA_data_2010.1.1-2014.12.31.csv\"\n",
    "pm25_df = pd.read_csv(pm25_url,\n",
    "                      delimiter=\",\",\n",
    "                      header=0,\n",
    "                      index_col=0,\n",
    "                     )\n",
    "pm25_df = pm25_df.dropna()"
   ]
  },
  {
   "cell_type": "code",
   "execution_count": 20,
   "metadata": {},
   "outputs": [
    {
     "data": {
      "text/plain": [
       "array(['SE', 'cv', 'NW', 'NE'], dtype=object)"
      ]
     },
     "execution_count": 20,
     "metadata": {},
     "output_type": "execute_result"
    }
   ],
   "source": [
    "pm25_df[\"cbwd\"].unique()"
   ]
  },
  {
   "cell_type": "code",
   "execution_count": 21,
   "metadata": {
    "collapsed": true
   },
   "outputs": [],
   "source": [
    "# Handle categorical data\n",
    "labeler = LabelEncoder()\n",
    "pm25_df[\"cbwd\"] = labeler.fit_transform(pm25_df[\"cbwd\"])"
   ]
  },
  {
   "cell_type": "code",
   "execution_count": 22,
   "metadata": {},
   "outputs": [
    {
     "data": {
      "text/plain": [
       "array([2, 3, 1, 0], dtype=int64)"
      ]
     },
     "execution_count": 22,
     "metadata": {},
     "output_type": "execute_result"
    }
   ],
   "source": [
    "pm25_df[\"cbwd\"].unique()"
   ]
  },
  {
   "cell_type": "code",
   "execution_count": 23,
   "metadata": {},
   "outputs": [
    {
     "name": "stderr",
     "output_type": "stream",
     "text": [
      "C:\\Users\\jam19e\\AppData\\Local\\Continuum\\anaconda3\\lib\\site-packages\\ipykernel_launcher.py:4: FutureWarning: Method .as_matrix will be removed in a future version. Use .values instead.\n",
      "  after removing the cwd from sys.path.\n",
      "C:\\Users\\jam19e\\AppData\\Local\\Continuum\\anaconda3\\lib\\site-packages\\ipykernel_launcher.py:5: FutureWarning: Method .as_matrix will be removed in a future version. Use .values instead.\n",
      "  \"\"\"\n",
      "C:\\Users\\jam19e\\AppData\\Local\\Continuum\\anaconda3\\lib\\site-packages\\ipykernel_launcher.py:7: FutureWarning: Method .as_matrix will be removed in a future version. Use .values instead.\n",
      "  import sys\n",
      "C:\\Users\\jam19e\\AppData\\Local\\Continuum\\anaconda3\\lib\\site-packages\\ipykernel_launcher.py:8: FutureWarning: Method .as_matrix will be removed in a future version. Use .values instead.\n",
      "  \n"
     ]
    }
   ],
   "source": [
    "# Split into test / train sets and label / feature vectors\n",
    "train_df, test_df = model_selection.train_test_split(pm25_df)\n",
    "\n",
    "X_train = train_df.iloc[:,-7:].as_matrix()\n",
    "y_train = train_df[\"pm2.5\"].as_matrix()\n",
    "\n",
    "X_test = test_df.iloc[:,-7:].as_matrix()\n",
    "y_test = test_df[\"pm2.5\"].as_matrix()"
   ]
  },
  {
   "cell_type": "code",
   "execution_count": 24,
   "metadata": {},
   "outputs": [
    {
     "data": {
      "text/plain": [
       "KNeighborsRegressor(algorithm='auto', leaf_size=30, metric='minkowski',\n",
       "          metric_params=None, n_jobs=1, n_neighbors=25, p=2,\n",
       "          weights='uniform')"
      ]
     },
     "execution_count": 24,
     "metadata": {},
     "output_type": "execute_result"
    }
   ],
   "source": [
    "# Create classifier\n",
    "knn_regression = neighbors.KNeighborsRegressor(n_neighbors=25)\n",
    "knn_regression.fit(X_train, \n",
    "                   y_train)"
   ]
  },
  {
   "cell_type": "code",
   "execution_count": 25,
   "metadata": {},
   "outputs": [
    {
     "data": {
      "text/plain": [
       "0.4035260688713645"
      ]
     },
     "execution_count": 25,
     "metadata": {},
     "output_type": "execute_result"
    }
   ],
   "source": [
    "# Classify test set\n",
    "knn_regression.score(X_test,\n",
    "                     y_test)"
   ]
  },
  {
   "cell_type": "code",
   "execution_count": 26,
   "metadata": {},
   "outputs": [
    {
     "data": {
      "image/png": "[encoded data removed]",
      "text/plain": [
       "<Figure size 432x288 with 1 Axes>"
      ]
     },
     "metadata": {},
     "output_type": "display_data"
    }
   ],
   "source": [
    "knn_predictions = knn_regression.predict(X_test)\n",
    "plt.plot(y_test[:100])\n",
    "plt.plot(knn_predictions[:100],'r')\n",
    "plt.xlabel(\"time\")\n",
    "plt.ylabel(\"PM2.5 concentration\")\n",
    "plt.show()"
   ]
  },
  {
   "cell_type": "markdown",
   "metadata": {},
   "source": [
    "Well I guess *sometimes* these things don't work out. Can you think why this technique is not particularly well suited to the problem at hand? Can you think of something we could do to improve the result?"
   ]
  },
  {
   "cell_type": "markdown",
   "metadata": {},
   "source": [
    "**Challenge -** The nearest neighbour algorithms have many parameters to tune. Check out the [documentation]() and play with parameters to see if you can improve the result."
   ]
  },
  {
   "cell_type": "markdown",
   "metadata": {},
   "source": [
    "## Linear Regression <a id='linear_regression'></a>"
   ]
  },
  {
   "cell_type": "markdown",
   "metadata": {},
   "source": [
    "Okay, we are going to cheat a little bit a create some \"random\" data to fit a linear line to."
   ]
  },
  {
   "cell_type": "code",
   "execution_count": 27,
   "metadata": {},
   "outputs": [],
   "source": [
    "# Create some linear data with a little bit of random noise\n",
    "FEATURE_DIM = 100\n",
    "NUM_SAMPLES = 100000\n",
    "\n",
    "X = 2 * np.random.rand(NUM_SAMPLES, FEATURE_DIM)\n",
    "y = 4 + np.sum(3 * X + np.random.rand(NUM_SAMPLES, FEATURE_DIM) * np.sin(X), 1)\n",
    "\n",
    "X_train, X_test, y_train, y_test = model_selection.train_test_split(X, y)"
   ]
  },
  {
   "cell_type": "markdown",
   "metadata": {},
   "source": [
    "Linear regression is simply the act of fitting a straight line to some given data, $\\hat{y}$, such that the line optimises some performance metric. Typically we denote the parameterisation of this line with the vector $\\theta$ such that \n",
    "\n",
    "$$ \\hat y = \\theta_0 + \\theta_1 x_1 + \\theta_2 x_2 + \\dots + \\theta_n x_n$$\n",
    "\n",
    "where $\\theta_0$ is a bias term."
   ]
  },
  {
   "cell_type": "markdown",
   "metadata": {},
   "source": [
    "Linear regression can be expressed in vector form as \n",
    "\n",
    "$$ \\hat y = h_{\\theta}(\\bf{x}) = \\theta^T \\cdot \\bf{x}$$\n",
    "\n",
    "- $\\theta$ is the model's parameter vector, containing the bias term $\\theta_0$ and the feature weights $\\theta_1$ to $\\theta_n$\n",
    "- $\\bf{x}$ is the feature vector (with $x_0 = 1$)\n",
    "- $h_\\theta$ is the hypothesis function.\n",
    "\n",
    "There are two ways to perform linear regression. You can either solve it exactly using some matrix gymnastics. Or more specifically using the Normal Equation you can find the set of parameters that minimises the Mean Square Error (MSE), $\\hat{\\theta}$:\n",
    "\n",
    "$$\\hat{\\theta} = \\left(\\bf{X}^{T}\\dot\\bf{X}\\right)^{-1} \\dot \\bf{X}^{T} \\dot \\bf{y}$$\n",
    "\n",
    "where\n",
    "- $\\bf{y}$ is the vector containin the target values, $y^{(i)}$\n",
    "- $\\bf{X}$ is the vector containing the given data points, ${\\bf x}^{(i)}$\n",
    "\n",
    "The function in `scikit-learn` to do this is the `LinearRegression` function."
   ]
  },
  {
   "cell_type": "code",
   "execution_count": 28,
   "metadata": {},
   "outputs": [
    {
     "data": {
      "text/plain": [
       "LinearRegression(copy_X=True, fit_intercept=True, n_jobs=1, normalize=False)"
      ]
     },
     "execution_count": 28,
     "metadata": {},
     "output_type": "execute_result"
    }
   ],
   "source": [
    "linear_regression = linear_model.LinearRegression()\n",
    "linear_regression.fit(X_train,\n",
    "                      y_train)"
   ]
  },
  {
   "cell_type": "code",
   "execution_count": 29,
   "metadata": {},
   "outputs": [
    {
     "data": {
      "text/plain": [
       "0.985071966812939"
      ]
     },
     "execution_count": 29,
     "metadata": {},
     "output_type": "execute_result"
    }
   ],
   "source": [
    "linear_regression.score(X_test,\n",
    "                        y_test)"
   ]
  },
  {
   "cell_type": "code",
   "execution_count": 30,
   "metadata": {},
   "outputs": [
    {
     "ename": "ValueError",
     "evalue": "shapes (10,1) and (100,) not aligned: 1 (dim 1) != 100 (dim 0)",
     "output_type": "error",
     "traceback": [
      "\u001b[1;31m---------------------------------------------------------------------------\u001b[0m",
      "\u001b[1;31mValueError\u001b[0m                                Traceback (most recent call last)",
      "\u001b[1;32m<ipython-input-30-29922b7b95ff>\u001b[0m in \u001b[0;36m<module>\u001b[1;34m()\u001b[0m\n\u001b[0;32m      1\u001b[0m \u001b[0mX_plot\u001b[0m \u001b[1;33m=\u001b[0m \u001b[0mnp\u001b[0m\u001b[1;33m.\u001b[0m\u001b[0mlinspace\u001b[0m\u001b[1;33m(\u001b[0m\u001b[1;36m0\u001b[0m\u001b[1;33m,\u001b[0m \u001b[1;36m2\u001b[0m\u001b[1;33m,\u001b[0m \u001b[1;36m10\u001b[0m\u001b[1;33m)\u001b[0m\u001b[1;33m\u001b[0m\u001b[0m\n\u001b[0;32m      2\u001b[0m \u001b[0mX_plot\u001b[0m \u001b[1;33m=\u001b[0m \u001b[0mX_plot\u001b[0m\u001b[1;33m.\u001b[0m\u001b[0mreshape\u001b[0m\u001b[1;33m(\u001b[0m\u001b[1;33m-\u001b[0m\u001b[1;36m1\u001b[0m\u001b[1;33m,\u001b[0m \u001b[1;36m1\u001b[0m\u001b[1;33m)\u001b[0m\u001b[1;33m\u001b[0m\u001b[0m\n\u001b[1;32m----> 3\u001b[1;33m \u001b[0my_plot\u001b[0m \u001b[1;33m=\u001b[0m \u001b[0mlinear_regression\u001b[0m\u001b[1;33m.\u001b[0m\u001b[0mpredict\u001b[0m\u001b[1;33m(\u001b[0m\u001b[0mX_plot\u001b[0m\u001b[1;33m)\u001b[0m\u001b[1;33m\u001b[0m\u001b[0m\n\u001b[0m\u001b[0;32m      4\u001b[0m \u001b[1;33m\u001b[0m\u001b[0m\n\u001b[0;32m      5\u001b[0m plt.plot(X_test,\n",
      "\u001b[1;32m~\\AppData\\Local\\Continuum\\anaconda3\\lib\\site-packages\\sklearn\\linear_model\\base.py\u001b[0m in \u001b[0;36mpredict\u001b[1;34m(self, X)\u001b[0m\n\u001b[0;32m    254\u001b[0m             \u001b[0mReturns\u001b[0m \u001b[0mpredicted\u001b[0m \u001b[0mvalues\u001b[0m\u001b[1;33m.\u001b[0m\u001b[1;33m\u001b[0m\u001b[0m\n\u001b[0;32m    255\u001b[0m         \"\"\"\n\u001b[1;32m--> 256\u001b[1;33m         \u001b[1;32mreturn\u001b[0m \u001b[0mself\u001b[0m\u001b[1;33m.\u001b[0m\u001b[0m_decision_function\u001b[0m\u001b[1;33m(\u001b[0m\u001b[0mX\u001b[0m\u001b[1;33m)\u001b[0m\u001b[1;33m\u001b[0m\u001b[0m\n\u001b[0m\u001b[0;32m    257\u001b[0m \u001b[1;33m\u001b[0m\u001b[0m\n\u001b[0;32m    258\u001b[0m     \u001b[0m_preprocess_data\u001b[0m \u001b[1;33m=\u001b[0m \u001b[0mstaticmethod\u001b[0m\u001b[1;33m(\u001b[0m\u001b[0m_preprocess_data\u001b[0m\u001b[1;33m)\u001b[0m\u001b[1;33m\u001b[0m\u001b[0m\n",
      "\u001b[1;32m~\\AppData\\Local\\Continuum\\anaconda3\\lib\\site-packages\\sklearn\\linear_model\\base.py\u001b[0m in \u001b[0;36m_decision_function\u001b[1;34m(self, X)\u001b[0m\n\u001b[0;32m    239\u001b[0m         \u001b[0mX\u001b[0m \u001b[1;33m=\u001b[0m \u001b[0mcheck_array\u001b[0m\u001b[1;33m(\u001b[0m\u001b[0mX\u001b[0m\u001b[1;33m,\u001b[0m \u001b[0maccept_sparse\u001b[0m\u001b[1;33m=\u001b[0m\u001b[1;33m[\u001b[0m\u001b[1;34m'csr'\u001b[0m\u001b[1;33m,\u001b[0m \u001b[1;34m'csc'\u001b[0m\u001b[1;33m,\u001b[0m \u001b[1;34m'coo'\u001b[0m\u001b[1;33m]\u001b[0m\u001b[1;33m)\u001b[0m\u001b[1;33m\u001b[0m\u001b[0m\n\u001b[0;32m    240\u001b[0m         return safe_sparse_dot(X, self.coef_.T,\n\u001b[1;32m--> 241\u001b[1;33m                                dense_output=True) + self.intercept_\n\u001b[0m\u001b[0;32m    242\u001b[0m \u001b[1;33m\u001b[0m\u001b[0m\n\u001b[0;32m    243\u001b[0m     \u001b[1;32mdef\u001b[0m \u001b[0mpredict\u001b[0m\u001b[1;33m(\u001b[0m\u001b[0mself\u001b[0m\u001b[1;33m,\u001b[0m \u001b[0mX\u001b[0m\u001b[1;33m)\u001b[0m\u001b[1;33m:\u001b[0m\u001b[1;33m\u001b[0m\u001b[0m\n",
      "\u001b[1;32m~\\AppData\\Local\\Continuum\\anaconda3\\lib\\site-packages\\sklearn\\utils\\extmath.py\u001b[0m in \u001b[0;36msafe_sparse_dot\u001b[1;34m(a, b, dense_output)\u001b[0m\n\u001b[0;32m    138\u001b[0m         \u001b[1;32mreturn\u001b[0m \u001b[0mret\u001b[0m\u001b[1;33m\u001b[0m\u001b[0m\n\u001b[0;32m    139\u001b[0m     \u001b[1;32melse\u001b[0m\u001b[1;33m:\u001b[0m\u001b[1;33m\u001b[0m\u001b[0m\n\u001b[1;32m--> 140\u001b[1;33m         \u001b[1;32mreturn\u001b[0m \u001b[0mnp\u001b[0m\u001b[1;33m.\u001b[0m\u001b[0mdot\u001b[0m\u001b[1;33m(\u001b[0m\u001b[0ma\u001b[0m\u001b[1;33m,\u001b[0m \u001b[0mb\u001b[0m\u001b[1;33m)\u001b[0m\u001b[1;33m\u001b[0m\u001b[0m\n\u001b[0m\u001b[0;32m    141\u001b[0m \u001b[1;33m\u001b[0m\u001b[0m\n\u001b[0;32m    142\u001b[0m \u001b[1;33m\u001b[0m\u001b[0m\n",
      "\u001b[1;31mValueError\u001b[0m: shapes (10,1) and (100,) not aligned: 1 (dim 1) != 100 (dim 0)"
     ]
    }
   ],
   "source": [
    "X_plot = np.linspace(0, 2, 10)\n",
    "X_plot = X_plot.reshape(-1, 1)\n",
    "y_plot = linear_regression.predict(X_plot)\n",
    "\n",
    "plt.plot(X_test,\n",
    "         y_test,\n",
    "         '.')\n",
    "plt.plot(X_plot,\n",
    "         y_plot)\n",
    "plt.show()"
   ]
  },
  {
   "cell_type": "markdown",
   "metadata": {},
   "source": [
    "Which works great unless the dimension of your input vector is very large.\n",
    "\n",
    "Or you can try to find the best fit using some sort of optimisation algorithm. Here we use an Stochastic Gradient Descent (SGD) method. This is great, because it can learn in an online fashion, reducing the required memory overhead."
   ]
  },
  {
   "cell_type": "code",
   "execution_count": null,
   "metadata": {},
   "outputs": [],
   "source": [
    "linear_regression = linear_model.SGDRegressor(max_iter=1)\n",
    "linear_regression.fit(X_train,\n",
    "                      np.ravel(y_train))"
   ]
  },
  {
   "cell_type": "code",
   "execution_count": null,
   "metadata": {},
   "outputs": [],
   "source": [
    "linear_regression.score(X_test,\n",
    "                        y_test)"
   ]
  },
  {
   "cell_type": "code",
   "execution_count": null,
   "metadata": {},
   "outputs": [],
   "source": [
    "X_plot = np.linspace(0, 2, 10)\n",
    "X_plot = X_plot.reshape(-1, 1)\n",
    "y_plot = linear_regression.predict(X_plot)\n",
    "\n",
    "plt.plot(X_test,\n",
    "         y_test,\n",
    "         '.')\n",
    "plt.plot(X_plot,\n",
    "         y_plot)\n",
    "plt.show()"
   ]
  },
  {
   "cell_type": "markdown",
   "metadata": {},
   "source": [
    "Compare the two methods. Do they differ by much? Which [parameters](http://scikit-learn.org/stable/modules/classes.html#module-sklearn.linear_model) can you change to close the gap? Try increasing the demonsionality of the data or playing with the number of data points."
   ]
  },
  {
   "cell_type": "markdown",
   "metadata": {},
   "source": [
    "## Logistic Regression <a id='logistic_regression'></a>"
   ]
  },
  {
   "cell_type": "markdown",
   "metadata": {},
   "source": [
    "You can also perform regressions on categorical data. Logistic regression is used to estimate the probability that an instance belongs to a particular class. Formally we we express the probability in terms of the parameters $\\theta$ as follows:\n",
    "\n",
    "$$\\hat{p} = h_\\theta(\\bf{x}) = \\sigma(\\theta^T\\dot\\bf{x})$$\n",
    "\n",
    "where $\\sigma(t)$ is called the logistic function and is defined as\n",
    "\n",
    "$$\\sigma(t) = \\frac{1}{1+\\exp(-t)}$$"
   ]
  },
  {
   "cell_type": "code",
   "execution_count": null,
   "metadata": {},
   "outputs": [],
   "source": [
    "t = np.linspace(-10, 10, 1000)\n",
    "sigma = 1 / (1 + np.exp(-t))\n",
    "plt.plot(t, sigma)"
   ]
  },
  {
   "cell_type": "code",
   "execution_count": null,
   "metadata": {},
   "outputs": [],
   "source": [
    "t = np.linspace(0, 1, 1000)\n",
    "sigma = -np.log(t)\n",
    "plt.plot(t, sigma)"
   ]
  },
  {
   "cell_type": "markdown",
   "metadata": {},
   "source": [
    "Before I glossed over the fact that we were using the MSE as a cost function for optimising the linear regressor, on the assumption that you would be familiar with it. This time we will use a cost function that is probably new to you, the logistic regression cost function or log loss for binary classification:\n",
    "\n",
    "$$J(\\theta) = -\\frac{1}{m}\\sum_{i=1}^m\\left[y^{(i)}\\log(\\hat{p}^{(i)})+ (1-y^{(i)})\\log(1-\\hat{p}^{(i)})\\right]$$\n",
    "\n",
    "where $y^{(i)}$ can take either a positive or negative value, i.e. $y^{(i)} \\in \\{0,1\\}$.\n",
    "\n",
    "Unfortunately, unlike the MSE cost function which has a closed form solution (the Normal Equation) so we are forced to find the optimum parameter values through optimisation."
   ]
  },
  {
   "cell_type": "code",
   "execution_count": null,
   "metadata": {},
   "outputs": [],
   "source": [
    "X, y = datasets.make_classification(n_samples=1000, n_features=2, n_redundant=0)\n",
    "X_train, X_test, y_train, y_test = model_selection.train_test_split(X, y)\n",
    "log_reg = linear_model.LogisticRegression(multi_class=\"ovr\",\n",
    "                                          solver=\"lbfgs\",\n",
    "                                          C=10,\n",
    "                                         )\n",
    "log_reg.fit(X_train,\n",
    "            y_train)\n",
    "log_reg.score(X_test,\n",
    "              y_test\n",
    "             )\n",
    "visualise_decision_surface(X,y,log_reg)"
   ]
  },
  {
   "cell_type": "markdown",
   "metadata": {},
   "source": [
    "**Do a binary example**"
   ]
  },
  {
   "cell_type": "markdown",
   "metadata": {},
   "source": [
    "You can handle multi-class problems by extending the above to use the cross entropy loss\n",
    "\n",
    "$$J(\\theta) = -\\frac{1}{m} \\sum_{i=1}^{m}\\sum_{k=1}^K y_k^{(i)}\\log(\\hat{p}_k^{(i)})$$\n",
    "\n",
    "where\n",
    "\n",
    "$$\\hat{p}_k = \\sigma(s({\\bf x}))_k = \\frac{\\exp(s_k({\\bf x}))}{\\sum_{j=1}^K \\exp(s_j({\\bf x}))}$$\n",
    "\n",
    "and\n",
    "\n",
    "$$s_k({\\bf x}) = \\theta_k^T \\cdot {\\bf x}$$"
   ]
  },
  {
   "cell_type": "code",
   "execution_count": null,
   "metadata": {
    "collapsed": true
   },
   "outputs": [],
   "source": [
    "iris = datasets.load_iris()\n",
    "X = iris[\"data\"]\n",
    "y = iris[\"target\"]\n",
    "\n",
    "X_train, X_test, y_train, y_test = model_selection.train_test_split(X, y)"
   ]
  },
  {
   "cell_type": "code",
   "execution_count": null,
   "metadata": {},
   "outputs": [],
   "source": [
    "print(iris[\"target_names\"])\n",
    "print(iris[\"feature_names\"])"
   ]
  },
  {
   "cell_type": "code",
   "execution_count": null,
   "metadata": {},
   "outputs": [],
   "source": [
    "log_reg = linear_model.LogisticRegression(multi_class=\"multinomial\",\n",
    "                                          solver=\"lbfgs\",\n",
    "                                          C=10,\n",
    "                                         )\n",
    "log_reg.fit(X_train,\n",
    "            y_train)"
   ]
  },
  {
   "cell_type": "code",
   "execution_count": null,
   "metadata": {},
   "outputs": [],
   "source": [
    "log_reg.score(X_test,\n",
    "              y_test\n",
    "             )"
   ]
  },
  {
   "cell_type": "code",
   "execution_count": null,
   "metadata": {},
   "outputs": [],
   "source": [
    "log_reg.predict_proba(X_test[0:1,:])"
   ]
  },
  {
   "cell_type": "markdown",
   "metadata": {},
   "source": [
    "## Decision Trees <a id='decision_trees'></a>"
   ]
  },
  {
   "cell_type": "markdown",
   "metadata": {},
   "source": [
    "Decision trees are fantastics because they offer some intuition into the fitting process. A decision tree essentially specifies threshold values in each unique feature, and makes classifications based on which side of the threshold your features lie."
   ]
  },
  {
   "cell_type": "code",
   "execution_count": null,
   "metadata": {},
   "outputs": [],
   "source": [
    "# Download the dataset and load it into pandas dataframe\n",
    "mushroom_url = \"https://archive.ics.uci.edu/ml/machine-learning-databases/mushroom/agaricus-lepiota.data\"\n",
    "feature_names = [\"edibility\", \"cap-shape\", \"cap-surface\", \"cap-color\", \"bruises\", \"odor\", \"gill-attachment\", \"gill-spacing\", \"gill-size\",\n",
    "                 \"gill-color\", \"stalk-shape\", \"stalk-root\", \"stalk-surface-above-ring\", \"stalk-surface-below-ring\",\n",
    "                 \"stalk-color-above-ring\", \"stalk-color-below-ring\", \"veil-type\", \"veil-color\", \"ring-number\", \n",
    "                 \"ring-type\", \"spore-print-color\", \"population\", \"habitat\"]\n",
    "class_names = [\"edible\", \"poisonous\"]\n",
    "mushroom_df = pd.read_csv(mushroom_url,\n",
    "                      delimiter=\",\",\n",
    "                      header=None,\n",
    "                      names=feature_names,    # Strings for our column headings\n",
    "                     )"
   ]
  },
  {
   "cell_type": "code",
   "execution_count": null,
   "metadata": {},
   "outputs": [],
   "source": [
    "mushroom_df"
   ]
  },
  {
   "cell_type": "code",
   "execution_count": null,
   "metadata": {
    "collapsed": true
   },
   "outputs": [],
   "source": [
    "labeler = LabelEncoder()\n",
    "for column in mushroom_df:\n",
    "    mushroom_df[column] = labeler.fit_transform(mushroom_df[column])"
   ]
  },
  {
   "cell_type": "code",
   "execution_count": null,
   "metadata": {},
   "outputs": [],
   "source": [
    "mushroom_df"
   ]
  },
  {
   "cell_type": "code",
   "execution_count": null,
   "metadata": {},
   "outputs": [],
   "source": [
    "# Test / train split\n",
    "train_df, test_df = model_selection.train_test_split(mushroom_df)\n",
    "\n",
    "X_train = train_df.iloc[:,1:].as_matrix()\n",
    "y_train = train_df.iloc[:,0].as_matrix()\n",
    "\n",
    "X_test = test_df.iloc[:,1:].as_matrix()\n",
    "y_test = test_df.iloc[:,0].as_matrix()"
   ]
  },
  {
   "cell_type": "code",
   "execution_count": null,
   "metadata": {},
   "outputs": [],
   "source": [
    "tree_clf = tree.DecisionTreeClassifier(criterion=\"entropy\", max_depth=5)\n",
    "tree_clf.fit(X_train,\n",
    "             y_train)"
   ]
  },
  {
   "cell_type": "code",
   "execution_count": null,
   "metadata": {},
   "outputs": [],
   "source": [
    "tree_clf.score(X_test,\n",
    "               y_test)"
   ]
  },
  {
   "cell_type": "code",
   "execution_count": null,
   "metadata": {},
   "outputs": [],
   "source": [
    "import pydotplus\n",
    "from IPython.display import Image  \n",
    "dot_data = tree.export_graphviz(tree_clf, out_file=None, \n",
    "                         feature_names=feature_names[1:],  \n",
    "                         class_names=class_names,  \n",
    "                         filled=True, rounded=True,  \n",
    "                         special_characters=True)  \n",
    "graph = pydotplus.graph_from_dot_data(dot_data)  \n",
    "Image(graph.create_png())"
   ]
  },
  {
   "cell_type": "markdown",
   "metadata": {},
   "source": [
    "## Suport Vector Machines <a id='svm'></a>"
   ]
  },
  {
   "cell_type": "markdown",
   "metadata": {},
   "source": [
    "<div class=\"row\">\n",
    "    <div class=\"column\" style=\"float:left\">\n",
    "        <img src=\"https://image.slidesharecdn.com/eventclassificationpredictionusingsupportvectormachine-160405104743/95/event-classification-prediction-using-support-vector-machine-13-638.jpg?cb=1459853447\" alt=\"drawing\" width=\"450px\"/>\n",
    "    </div>\n",
    "    <div class=\"column\" style=\"float:left\">\n",
    "    <img src=\"https://image.slidesharecdn.com/eventclassificationpredictionusingsupportvectormachine-160405104743/95/event-classification-prediction-using-support-vector-machine-15-638.jpg?cb=1459853447\" alt=\"drawing\" width=\"450px\"/>\n",
    "    </div>\n",
    "</div>\n",
    "    "
   ]
  },
  {
   "cell_type": "markdown",
   "metadata": {},
   "source": [
    "A linear SVM classifier is defined by the decision function\n",
    "\n",
    "$${\\bf w}^T\\cdot {\\bf x} + b = w_1x_1 + w_2x_2 + \\cdots + w_nx_n + b$$\n",
    "\n",
    "If the result of the decision function is positive the predicted class $\\hat{y}$ is the positive class (1), otherwise it is the negative class (0)\n",
    "\n",
    "$$\\hat{y} = \\begin{cases}\n",
    "                    0 &\\quad \\textrm{if} \\quad {\\bf w}^T \\cdot {\\bf x} +x < 0,\\\\\n",
    "                    1 &\\quad \\textrm{if} \\quad {\\bf w}^T \\cdot {\\bf x} +x \\ge 0\n",
    "            \\end{cases} $$\n",
    "            \n",
    "The objective function for a linear SVM is\n",
    "\n",
    "$$ \\min_{{\\bf w}, b} \\frac{1}{2}{\\bf w}^T \\cdot {\\bf w} $$\n",
    "\n",
    "under the constraint\n",
    "\n",
    "$$t^{(i)}\\left({\\bf w}^T \\cdot {\\bf x}^{(i)} + b\\right) \\ge 1 \\quad \\textrm{for } i = 1,2, \\dots, m$$\n",
    "\n",
    "where \n",
    "\n",
    "$$t^{(i)} = \\begin{cases}\n",
    "                    -1 &\\quad \\textrm{if} \\quad y^{(i)}=0,\\\\\n",
    "                    1 &\\quad \\textrm{if} \\quad y^{(i)}=1\n",
    "            \\end{cases}\n",
    "$$\n",
    "\n",
    "You can train an SVM using SGD with an objective function equal to\n",
    "\n",
    "$$ J({\\bf w}, b) = \\frac{1}{2}{\\bf w}^T\\cdot{\\bf w} + C\\sum_{i=1}^m \\max\\left(0, 1-t^{(i)}\\left({\\bf w}^T \\cdot {\\bf x}^{(i)} + b\\right)\\right)$$"
   ]
  },
  {
   "cell_type": "code",
   "execution_count": null,
   "metadata": {},
   "outputs": [],
   "source": [
    "from sklearn import pipeline,  svm\n",
    "from sklearn.preprocessing import StandardScaler"
   ]
  },
  {
   "cell_type": "code",
   "execution_count": null,
   "metadata": {},
   "outputs": [],
   "source": [
    "iris = datasets.load_iris()\n",
    "X = iris[\"data\"][:,(2, 3)]  # petal length, petal width\n",
    "y = (iris[\"target\"] == 2).astype(np.float64)  # Iris-Virginica\n",
    "\n",
    "X_train, X_test, y_train, y_test = model_selection.train_test_split(X, y)\n",
    "\n",
    "svm_clf = pipeline.Pipeline((\n",
    "                             (\"scaler\", StandardScaler()),\n",
    "                             (\"linear_svc\", svm.LinearSVC(C=1, loss=\"hinge\")),\n",
    "                           ))\n",
    "svm_clf.fit(X_train, y_train)\n",
    "svm_clf.score(X_test, y_test)"
   ]
  },
  {
   "cell_type": "code",
   "execution_count": null,
   "metadata": {},
   "outputs": [],
   "source": [
    "visualise_decision_surface(X, y, svm_clf)"
   ]
  },
  {
   "cell_type": "code",
   "execution_count": null,
   "metadata": {},
   "outputs": [],
   "source": [
    "from sklearn.datasets import make_moons\n",
    "from sklearn.preprocessing import PolynomialFeatures"
   ]
  },
  {
   "cell_type": "code",
   "execution_count": null,
   "metadata": {},
   "outputs": [],
   "source": [
    "X, y = make_moons(n_samples=1000, noise=0.25)\n",
    "\n",
    "X_train, X_test, y_train, y_test = model_selection.train_test_split(X, y)"
   ]
  },
  {
   "cell_type": "code",
   "execution_count": null,
   "metadata": {},
   "outputs": [],
   "source": [
    "polynomial_svm_clf = pipeline.Pipeline((\n",
    "                                        (\"poly_features\", PolynomialFeatures(degree=3)),\n",
    "                                        (\"scaler\", StandardScaler()),\n",
    "                                        (\"smv_clf\", svm.LinearSVC(C=10, loss=\"hinge\"))\n",
    "                                      ))\n",
    "polynomial_svm_clf.fit(X_train,\n",
    "                       y_train)\n",
    "polynomial_svm_clf.score(X_test,\n",
    "                       y_test)"
   ]
  },
  {
   "cell_type": "code",
   "execution_count": null,
   "metadata": {},
   "outputs": [],
   "source": [
    "visualise_decision_surface(X, y, polynomial_svm_clf)"
   ]
  },
  {
   "cell_type": "code",
   "execution_count": null,
   "metadata": {},
   "outputs": [],
   "source": [
    "poly_kernel_svm_clf = pipeline.Pipeline((\n",
    "                                         (\"scaler\", StandardScaler()),\n",
    "                                         (\"svm_clf\", svm.SVC(kernel=\"poly\", degree=3, coef0=1, C=5))))\n",
    "poly_kernel_svm_clf.fit(X_train,\n",
    "                        y_train)\n",
    "poly_kernel_svm_clf.score(X_test,\n",
    "                        y_test)"
   ]
  },
  {
   "cell_type": "code",
   "execution_count": null,
   "metadata": {},
   "outputs": [],
   "source": [
    "visualise_decision_surface(X, y, poly_kernel_svm_clf)"
   ]
  },
  {
   "cell_type": "code",
   "execution_count": null,
   "metadata": {},
   "outputs": [],
   "source": [
    "rbf_kernel_svm_clf = pipeline.Pipeline(((\"scaler\", StandardScaler()),\n",
    "                                        (\"svm_clf\", svm.SVC(kernel=\"rbf\", gamma=1, C=1))\n",
    "                                      ))\n",
    "rbf_kernel_svm_clf.fit(X_train,\n",
    "                       y_train)\n",
    "rbf_kernel_svm_clf.score(X_test,\n",
    "                         y_test)"
   ]
  },
  {
   "cell_type": "code",
   "execution_count": null,
   "metadata": {},
   "outputs": [],
   "source": [
    "visualise_decision_surface(X, y, rbf_kernel_svm_clf)"
   ]
  },
  {
   "cell_type": "code",
   "execution_count": null,
   "metadata": {
    "collapsed": true
   },
   "outputs": [],
   "source": []
  }
 ],
 "metadata": {
  "kernelspec": {
   "display_name": "Python 3",
   "language": "python",
   "name": "python3"
  },
  "language_info": {
   "codemirror_mode": {
    "name": "ipython",
    "version": 3
   },
   "file_extension": ".py",
   "mimetype": "text/x-python",
   "name": "python",
   "nbconvert_exporter": "python",
   "pygments_lexer": "ipython3",
   "version": "3.6.5"
  }
 },
 "nbformat": 4,
 "nbformat_minor": 2
}
